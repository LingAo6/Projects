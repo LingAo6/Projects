{
  "nbformat": 4,
  "nbformat_minor": 0,
  "metadata": {
    "colab": {
      "name": "Winter FT-BERT.ipynb",
      "provenance": [],
      "toc_visible": true,
      "machine_shape": "hm"
    },
    "kernelspec": {
      "name": "python3",
      "display_name": "Python 3"
    },
    "accelerator": "GPU"
  },
  "cells": [
    {
      "cell_type": "code",
      "metadata": {
        "id": "thQwaebLT7iL"
      },
      "source": [
        "!pip install pytorch-pretrained-bert==0.4.0\r\n",
        "!pip install pytorch_transformers\r\n",
        "!pip install transformers\r\n",
        "!pip install botocore"
      ],
      "execution_count": null,
      "outputs": []
    },
    {
      "cell_type": "code",
      "metadata": {
        "id": "6biAFhCPVZ4R"
      },
      "source": [
        "!pip install bcolz\r\n",
        "!pip install torchnlp"
      ],
      "execution_count": null,
      "outputs": []
    },
    {
      "cell_type": "code",
      "metadata": {
        "id": "5OIMDOUsUpGZ"
      },
      "source": [
        "import torch\r\n",
        "import pandas as pd\r\n",
        "import numpy as np\r\n",
        "import tensorflow as tf\r\n",
        "import theano\r\n",
        "import keras\r\n",
        "from sklearn.model_selection import train_test_split\r\n",
        "from keras.preprocessing.sequence import pad_sequences\r\n",
        "from pytorch_pretrained_bert import BertTokenizer, BertModel\r\n",
        "from pytorch_transformers.modeling_bert import BertPreTrainedModel\r\n",
        "from transformers import BertConfig, BertTokenizer,TFBertForSequenceClassification\r\n",
        "from pytorch_pretrained_bert.optimization import BertAdam\r\n",
        "from tqdm import trange\r\n",
        "from torch.utils.data import TensorDataset, DataLoader, RandomSampler, SequentialSampler\r\n",
        "import torch.nn.functional as F\r\n",
        "from torch import nn\r\n",
        "import os\r\n",
        "import re\r\n",
        "from tqdm import tqdm\r\n",
        "import numpy as np\r\n",
        "import pandas as pd\r\n",
        "import requests\r\n",
        "import matplotlib.pyplot as plt\r\n",
        "import csv\r\n",
        "from operator import itemgetter\r\n",
        "import gzip\r\n",
        "import bcolz\r\n",
        "import pickle\r\n",
        "from collections import Counter\r\n",
        "import string\r\n",
        "import warnings\r\n",
        "from pandas.core.common import SettingWithCopyWarning\r\n",
        "from tqdm.auto import tqdm\r\n",
        "import torch\r\n",
        "import torch.nn as nn\r\n",
        "import torch.optim as optim\r\n",
        "import torch.nn.functional as F\r\n",
        "import torchtext\r\n",
        "from torch.utils.data import DataLoader\r\n",
        "from torch.utils import data\r\n",
        "warnings.simplefilter(action=\"ignore\", category=SettingWithCopyWarning)\r\n",
        "%matplotlib inline"
      ],
      "execution_count": null,
      "outputs": []
    },
    {
      "cell_type": "markdown",
      "metadata": {
        "id": "TWdSYYVQVEX8"
      },
      "source": [
        "### Data (Train, Validation, Test)"
      ]
    },
    {
      "cell_type": "code",
      "metadata": {
        "id": "yderQtEsVj1Z"
      },
      "source": [
        "train_data = pd.read_csv('product_10k_train.csv')\r\n",
        "val_data = pd.read_csv('product_10k_val.csv')\r\n",
        "test_data = pd.read_csv('product_10k_test.csv')"
      ],
      "execution_count": null,
      "outputs": []
    },
    {
      "cell_type": "markdown",
      "metadata": {
        "id": "CmCOWxBwZE_G"
      },
      "source": [
        "### Preprocess"
      ]
    },
    {
      "cell_type": "code",
      "metadata": {
        "id": "PX4AX8XcbQ5w"
      },
      "source": [
        "## --------------------------------- TWO INPUTS --------------------------------------------- ##\r\n",
        "## -------------------------- -1. TEXT COLUMN. 2. MAX_LEN ----------------------------------- ##\r\n",
        "def preprocess_for_bert(data_text, MAX_LEN = 120): \r\n",
        "    tokenizer=BertTokenizer.from_pretrained('bert-base-uncased-vocab.txt',do_lower_case=True, return_tensors='np')\r\n",
        "    tokenized_sents=[tokenizer.tokenize(sent) for sent in ['[CLS] ' + sent + ' [SEP]' for sent in data_text]]\r\n",
        "    input_ids=pad_sequences([tokenizer.convert_tokens_to_ids(sent) for sent in tokenized_sents], \r\n",
        "                            maxlen=MAX_LEN, dtype=\"long\", truncating=\"post\", padding=\"post\")\r\n",
        "    attention_masks = []\r\n",
        "    for seq in input_ids:\r\n",
        "        attention_masks.append([int(i>0) for i in seq])\r\n",
        "    # Convert lists to tensors\r\n",
        "    input_ids = torch.LongTensor(input_ids)\r\n",
        "    attention_masks = torch.LongTensor(attention_masks)\r\n",
        "\r\n",
        "    return input_ids, attention_masks"
      ],
      "execution_count": null,
      "outputs": []
    },
    {
      "cell_type": "code",
      "metadata": {
        "colab": {
          "base_uri": "https://localhost:8080/"
        },
        "id": "d2t6uS65ZLVZ",
        "outputId": "fdc84da6-8bb7-4820-f9b7-2dc72bcb84c1"
      },
      "source": [
        "dev = torch.device(\"cuda\") if torch.cuda.is_available() else torch.device(\"cpu\")\r\n",
        "print(f\"Current device is {dev}\")"
      ],
      "execution_count": null,
      "outputs": [
        {
          "output_type": "stream",
          "text": [
            "Current device is cuda\n"
          ],
          "name": "stdout"
        }
      ]
    },
    {
      "cell_type": "code",
      "metadata": {
        "id": "m5Qhagr0Zd-R",
        "colab": {
          "base_uri": "https://localhost:8080/"
        },
        "outputId": "80cc6c5f-9976-4fce-956e-71e5f13ee0db"
      },
      "source": [
        "X_train, y_train = np.array(train_data['reviewText'].astype(\"str\")),  np.array(train_data['helpfulness']).astype('float')\r\n",
        "X_val,  y_val = np.array(val_data['reviewText'].astype(\"str\")),  np.array(val_data['helpfulness']).astype('float')\r\n",
        "X_test, y_test = np.array(test_data['reviewText'].astype(\"str\")),  np.array(test_data['helpfulness']).astype('float')\r\n",
        "                                 \r\n",
        "train_inputs, train_masks = preprocess_for_bert(X_train)\r\n",
        "val_inputs, val_masks = preprocess_for_bert(X_val)\r\n",
        "test_inputs, test_masks = preprocess_for_bert(X_test)\r\n",
        "\r\n",
        "from torch.utils.data import TensorDataset, DataLoader, RandomSampler, SequentialSampler\r\n",
        "\r\n",
        "# Convert other data types to torch.Tensor\r\n",
        "train_labels = torch.tensor(y_train).float()\r\n",
        "val_labels = torch.tensor(y_val).float()\r\n",
        "test_labels = torch.tensor(y_test).float()\r\n",
        "\r\n",
        "\r\n",
        "# For fine-tuning BERT, the authors recommend a batch size of 16 or 32.\r\n",
        "batch_size = 32\r\n",
        "\r\n",
        "# Create the DataLoader for our training set\r\n",
        "train_data = TensorDataset(train_inputs, train_masks, train_labels)\r\n",
        "train_sampler = RandomSampler(train_data)\r\n",
        "train_dataloader = DataLoader(train_data, sampler=train_sampler, batch_size=batch_size)\r\n",
        "\r\n",
        "# Create the DataLoader for our validation set\r\n",
        "val_data = TensorDataset(val_inputs, val_masks, val_labels)\r\n",
        "val_sampler = SequentialSampler(val_data)\r\n",
        "val_dataloader = DataLoader(val_data, sampler=val_sampler, batch_size=batch_size)\r\n",
        "\r\n",
        "# Create the DataLoader for our test set\r\n",
        "test_data = TensorDataset(test_inputs, test_masks, test_labels)\r\n",
        "test_sampler = SequentialSampler(test_data)\r\n",
        "test_dataloader = DataLoader(test_data, sampler=test_sampler, batch_size=batch_size)"
      ],
      "execution_count": null,
      "outputs": [
        {
          "output_type": "stream",
          "text": [
            "Calling BertTokenizer.from_pretrained() with the path to a single file or url is deprecated\n",
            "Calling BertTokenizer.from_pretrained() with the path to a single file or url is deprecated\n",
            "Calling BertTokenizer.from_pretrained() with the path to a single file or url is deprecated\n"
          ],
          "name": "stderr"
        }
      ]
    },
    {
      "cell_type": "code",
      "metadata": {
        "id": "SfsBwdkIbvgw"
      },
      "source": [
        "from transformers import  BertConfig\r\n",
        "config = BertConfig.from_pretrained(\"bert-base-uncased\", output_hidden_states=True)\r\n",
        "model = BertModel.from_pretrained(\"bert-base-uncased\")"
      ],
      "execution_count": null,
      "outputs": []
    },
    {
      "cell_type": "code",
      "metadata": {
        "id": "BYZwC6hBhavV"
      },
      "source": [
        "# Create the BertRegressor class\r\n",
        "class BertRegressor(nn.Module):\r\n",
        "    \"\"\"Bert Model for Regression Tasks.\r\n",
        "    \"\"\"\r\n",
        "    def __init__(self, freeze_bert=False):\r\n",
        "        \"\"\"\r\n",
        "        @param    bert: a BertModel object\r\n",
        "        @param    classifier: a torch.nn.Module regressor\r\n",
        "        @param    freeze_bert (bool): Set `False` to fine-tune the BERT model\r\n",
        "        \"\"\"\r\n",
        "        super(BertRegressor, self).__init__()\r\n",
        "        # Specify hidden size of BERT, hidden size of our regressor, and number of labels\r\n",
        "        D_in, H, D_out = 768, 50, 1\r\n",
        "\r\n",
        "        # Instantiate BERT model\r\n",
        "        self.bert = model\r\n",
        "\r\n",
        "        # Instantiate an one-layer feed-forward regressor\r\n",
        "        self.classifier = nn.Sequential(\r\n",
        "            nn.Linear(D_in, H),\r\n",
        "            nn.ReLU(),\r\n",
        "            nn.Dropout(0.4),\r\n",
        "            nn.Linear(H, D_out)\r\n",
        "        )\r\n",
        "\r\n",
        "        # Freeze the BERT model\r\n",
        "        if freeze_bert:\r\n",
        "            for param in self.bert.parameters():\r\n",
        "                param.requires_grad = False\r\n",
        "        \r\n",
        "    def forward(self, input_ids, attention_mask):\r\n",
        "        \"\"\"\r\n",
        "        Feed input to BERT and the regressor to compute logits.\r\n",
        "        @param    input_ids (torch.Tensor): an input tensor with shape (batch_size,\r\n",
        "                      max_length)\r\n",
        "        @param    attention_mask (torch.Tensor): a tensor that hold attention mask\r\n",
        "                      information with shape (batch_size, max_length)\r\n",
        "        @return   logits (torch.Tensor): an output tensor with shape (batch_size,\r\n",
        "                      num_labels)\r\n",
        "        \"\"\"\r\n",
        "        # Feed input to BERT\r\n",
        "        outputs = self.bert(input_ids=input_ids,\r\n",
        "                            attention_mask=attention_mask)\r\n",
        "        \r\n",
        "        choosed_hidden_state_cls = outputs[0][10][0]\r\n",
        "        # Feed input to classifier to compute logits\r\n",
        "        logits = self.classifier(choosed_hidden_state_cls)\r\n",
        "\r\n",
        "        return logits"
      ],
      "execution_count": null,
      "outputs": []
    },
    {
      "cell_type": "code",
      "metadata": {
        "id": "a9KrYWiyh_Lw"
      },
      "source": [
        "from transformers import AdamW, get_linear_schedule_with_warmup\r\n",
        "\r\n",
        "def initialize_model(epochs=4):\r\n",
        "    \"\"\"Initialize the Bert Regressor, the optimizer and the learning rate scheduler.\r\n",
        "    \"\"\"\r\n",
        "    # Instantiate Bert Regressor\r\n",
        "    bert_regressor = BertRegressor(freeze_bert=False)\r\n",
        "\r\n",
        "    # Tell PyTorch to run the model on GPU\r\n",
        "    bert_regressor.to(dev)\r\n",
        "\r\n",
        "    # Create the optimizer\r\n",
        "    optimizer = AdamW(bert_regressor.parameters(),\r\n",
        "                      lr=5e-5,    # Default learning rate\r\n",
        "                      eps=1e-8    # Default epsilon value\r\n",
        "                      )\r\n",
        "\r\n",
        "    # Total number of training steps\r\n",
        "    total_steps = len(train_dataloader) * epochs\r\n",
        "\r\n",
        "    # Set up the learning rate scheduler\r\n",
        "    scheduler = get_linear_schedule_with_warmup(optimizer,\r\n",
        "                                                num_warmup_steps=0, # Default value\r\n",
        "                                                num_training_steps=total_steps)\r\n",
        "    return bert_regressor, optimizer, scheduler"
      ],
      "execution_count": null,
      "outputs": []
    },
    {
      "cell_type": "code",
      "metadata": {
        "id": "X0ePQgqBiDGq"
      },
      "source": [
        "from torch.nn import MSELoss\r\n",
        "import random\r\n",
        "import time\r\n",
        "\r\n",
        "# Specify loss function\r\n",
        "loss_fn = nn.MSELoss()\r\n",
        "\r\n",
        "def set_seed(seed_value=42):\r\n",
        "    \"\"\"Set seed for reproducibility.\r\n",
        "    \"\"\"\r\n",
        "    random.seed(seed_value)\r\n",
        "    np.random.seed(seed_value)\r\n",
        "    torch.manual_seed(seed_value)\r\n",
        "    torch.cuda.manual_seed_all(seed_value)\r\n",
        "\r\n",
        "def train(model, train_dataloader, val_dataloader=None, test_dataloader = None, epochs=4, evaluation=False, test_eva = True):\r\n",
        "    \"\"\"Train the BertClassifier model.\r\n",
        "    \"\"\"\r\n",
        "    # Start training loop\r\n",
        "    print(\"Start training...\\n\")\r\n",
        "    for epoch_i in range(epochs):\r\n",
        "        # =======================================\r\n",
        "        #               Training\r\n",
        "        # =======================================\r\n",
        "        # Print the header of the result table\r\n",
        "        print(f\"{'Epoch':^7} | {'Batch':^7} | {'Train Loss':^12} | {'Val Loss':^10} | {'Test Loss':^10} | {'Elapsed':^9}\")\r\n",
        "        print(\"-\"*70)\r\n",
        "\r\n",
        "        # Measure the elapsed time of each epoch\r\n",
        "        t0_epoch, t0_batch = time.time(), time.time()\r\n",
        "\r\n",
        "        # Reset tracking variables at the beginning of each epoch\r\n",
        "        total_loss, batch_loss, batch_counts = 0, 0, 0\r\n",
        "\r\n",
        "        # Put the model into the training mode\r\n",
        "        model.train()\r\n",
        "\r\n",
        "        # For each batch of training data...\r\n",
        "        for step, batch in enumerate(train_dataloader):\r\n",
        "            batch_counts +=1\r\n",
        "            # Load batch to GPU\r\n",
        "            b_input_ids, b_attn_mask, b_labels = tuple(t.to(dev) for t in batch)\r\n",
        "\r\n",
        "            # Zero out any previously calculated gradients\r\n",
        "            model.zero_grad()\r\n",
        "\r\n",
        "            # Perform a forward pass. This will return logits.\r\n",
        "            logits = model(b_input_ids, b_attn_mask)\r\n",
        "\r\n",
        "            # Compute loss and accumulate the loss values\r\n",
        "            logits=logits.double()\r\n",
        "            b_labels=b_labels.double()\r\n",
        "            loss = loss_fn(logits, b_labels)\r\n",
        "            batch_loss += loss.item()\r\n",
        "            total_loss += loss.item()\r\n",
        "\r\n",
        "            # Perform a backward pass to calculate gradients\r\n",
        "            loss.backward()\r\n",
        "\r\n",
        "            # Clip the norm of the gradients to 1.0 to prevent \"exploding gradients\"\r\n",
        "            torch.nn.utils.clip_grad_norm_(model.parameters(), 1.0)\r\n",
        "\r\n",
        "            # Update parameters and the learning rate\r\n",
        "            optimizer.step()\r\n",
        "            scheduler.step()\r\n",
        "\r\n",
        "            # Print the loss values and time elapsed for every 20 batches\r\n",
        "            if (step % 20 == 0 and step != 0) or (step == len(train_dataloader) - 1):\r\n",
        "                # Calculate time elapsed for 20 batches\r\n",
        "                time_elapsed = time.time() - t0_batch\r\n",
        "\r\n",
        "                # Print training results\r\n",
        "                print(f\"{epoch_i + 1:^7} | {step:^7} | {batch_loss / batch_counts:^12.6f} | {'-':^10} | {'-':^9} | {'-':^9}| {time_elapsed:^9.2f}\")\r\n",
        "\r\n",
        "                # Reset batch tracking variables\r\n",
        "                batch_loss, batch_counts = 0, 0\r\n",
        "                t0_batch = time.time()\r\n",
        "\r\n",
        "        # Calculate the average loss over the entire training data\r\n",
        "        avg_train_loss = total_loss / len(train_dataloader)\r\n",
        "\r\n",
        "        print(\"-\"*70)\r\n",
        "        # =======================================\r\n",
        "        #               Evaluation\r\n",
        "        # =======================================\r\n",
        "        if evaluation == True:\r\n",
        "            # After the completion of each training epoch, measure the model's performance\r\n",
        "            # on our validation set.\r\n",
        "            val_loss = evaluate(model, val_dataloader)\r\n",
        "\r\n",
        "        if test_eva == True:\r\n",
        "            # After the completion of each training epoch, measure the model's performance\r\n",
        "            # on our validation set.\r\n",
        "            test_loss = test_evaluate(model, test_dataloader)\r\n",
        "\r\n",
        "            # Print performance over the entire training data\r\n",
        "            time_elapsed = time.time() - t0_epoch\r\n",
        "            \r\n",
        "            print(f\"{epoch_i + 1:^7} | {'-':^7} | {avg_train_loss:^12.6f} | {val_loss:^10.6f} | {test_loss:^10.6f} | {time_elapsed:^9.2f}\")\r\n",
        "            print(\"-\"*70)\r\n",
        "        print(\"\\n\")\r\n",
        "\r\n",
        "        \r\n",
        "    \r\n",
        "    print(\"Training complete!\")\r\n",
        "\r\n",
        "\r\n",
        "def evaluate(model, val_dataloader):\r\n",
        "    \"\"\"After the completion of each training epoch, measure the model's performance\r\n",
        "    on our validation set.\r\n",
        "    \"\"\"\r\n",
        "    # Put the model into the evaluation mode. The dropout layers are disabled during\r\n",
        "    # the test time.\r\n",
        "    model.eval()\r\n",
        "\r\n",
        "    # Tracking variables\r\n",
        "#     val_accuracy = []\r\n",
        "    val_loss = []\r\n",
        "\r\n",
        "    # For each batch in our validation set...\r\n",
        "    for batch in val_dataloader:\r\n",
        "        # Load batch to GPU\r\n",
        "        b_input_ids, b_attn_mask, b_labels = tuple(t.to(dev) for t in batch)\r\n",
        "\r\n",
        "        # Compute logits\r\n",
        "        with torch.no_grad():\r\n",
        "            logits = model(b_input_ids, b_attn_mask)\r\n",
        "\r\n",
        "        # Compute loss\r\n",
        "        loss = loss_fn(logits, b_labels)\r\n",
        "        val_loss.append(loss.item())\r\n",
        "\r\n",
        "        # Get the predictions\r\n",
        "        preds = torch.argmax(logits, dim=1).flatten()\r\n",
        "\r\n",
        "        # Calculate the accuracy rate\r\n",
        "#         accuracy = (preds == b_labels).cpu().numpy().mean() * 100\r\n",
        "#         val_accuracy.append(accuracy)\r\n",
        "\r\n",
        "    # Compute the average accuracy and loss over the validation set.\r\n",
        "    val_loss = np.mean(val_loss)\r\n",
        "#     val_accuracy = np.mean(val_accuracy)\r\n",
        "\r\n",
        "    return val_loss\r\n",
        "\r\n",
        "def test_evaluate(model, test_dataloader):\r\n",
        "    \"\"\"After the completion of each training epoch, measure the model's performance\r\n",
        "    on our validation set.\r\n",
        "    \"\"\"\r\n",
        "    # Put the model into the evaluation mode. The dropout layers are disabled during\r\n",
        "    # the test time.\r\n",
        "    model.eval()\r\n",
        "\r\n",
        "    # Tracking variables\r\n",
        "#     val_accuracy = []\r\n",
        "    test_loss = []\r\n",
        "\r\n",
        "    # For each batch in our validation set...\r\n",
        "    for batch in test_dataloader:\r\n",
        "        # Load batch to GPU\r\n",
        "        b_input_ids, b_attn_mask, b_labels = tuple(t.to(dev) for t in batch)\r\n",
        "\r\n",
        "        # Compute logits\r\n",
        "        with torch.no_grad():\r\n",
        "            logits = model(b_input_ids, b_attn_mask)\r\n",
        "\r\n",
        "        # Compute loss\r\n",
        "        loss = loss_fn(logits, b_labels)\r\n",
        "        test_loss.append(loss.item())\r\n",
        "\r\n",
        "        # Get the predictions\r\n",
        "        preds = torch.argmax(logits, dim=1).flatten()\r\n",
        "\r\n",
        "        # Calculate the accuracy rate\r\n",
        "#         accuracy = (preds == b_labels).cpu().numpy().mean() * 100\r\n",
        "#         val_accuracy.append(accuracy)\r\n",
        "\r\n",
        "    # Compute the average accuracy and loss over the validation set.\r\n",
        "    test_loss = np.mean(test_loss)\r\n",
        "#     val_accuracy = np.mean(val_accuracy)\r\n",
        "\r\n",
        "    return test_loss"
      ],
      "execution_count": null,
      "outputs": []
    },
    {
      "cell_type": "code",
      "metadata": {
        "colab": {
          "base_uri": "https://localhost:8080/"
        },
        "id": "FtzML-55iH55",
        "outputId": "2ebb69af-3a38-4b52-a4d5-8f17e15836f2"
      },
      "source": [
        "set_seed(2018)    # Set seed for reproducibility\r\n",
        "bert_regressor, optimizer, scheduler = initialize_model(epochs=2)\r\n",
        "train(bert_regressor, train_dataloader, val_dataloader, test_dataloader, epochs=2, evaluation=True, test_eva = True)"
      ],
      "execution_count": null,
      "outputs": [
        {
          "output_type": "stream",
          "text": [
            "Start training...\n",
            "\n",
            " Epoch  |  Batch  |  Train Loss  |  Val Loss  | Test Loss  |  Elapsed \n",
            "----------------------------------------------------------------------\n",
            "   1    |   20    |   0.054089   |     -      |     -     |     -    |   8.55   \n",
            "   1    |   40    |   0.051440   |     -      |     -     |     -    |   8.11   \n",
            "   1    |   60    |   0.055667   |     -      |     -     |     -    |   8.14   \n",
            "   1    |   80    |   0.047903   |     -      |     -     |     -    |   8.12   \n",
            "   1    |   100   |   0.052916   |     -      |     -     |     -    |   8.12   \n",
            "   1    |   120   |   0.052617   |     -      |     -     |     -    |   8.11   \n",
            "   1    |   140   |   0.054489   |     -      |     -     |     -    |   8.12   \n",
            "   1    |   160   |   0.050928   |     -      |     -     |     -    |   8.11   \n",
            "   1    |   180   |   0.049474   |     -      |     -     |     -    |   8.11   \n",
            "   1    |   200   |   0.048536   |     -      |     -     |     -    |   8.12   \n",
            "   1    |   220   |   0.049594   |     -      |     -     |     -    |   8.11   \n",
            "   1    |   240   |   0.051286   |     -      |     -     |     -    |   8.12   \n",
            "   1    |   249   |   0.056246   |     -      |     -     |     -    |   3.67   \n",
            "----------------------------------------------------------------------\n",
            "   1    |    -    |   0.051756   |  0.029580  |  0.026619  |  109.76  \n",
            "----------------------------------------------------------------------\n",
            "\n",
            "\n",
            " Epoch  |  Batch  |  Train Loss  |  Val Loss  | Test Loss  |  Elapsed \n",
            "----------------------------------------------------------------------\n",
            "   2    |   20    |   0.050634   |     -      |     -     |     -    |   8.52   \n",
            "   2    |   40    |   0.050430   |     -      |     -     |     -    |   8.11   \n",
            "   2    |   60    |   0.053638   |     -      |     -     |     -    |   8.10   \n",
            "   2    |   80    |   0.049989   |     -      |     -     |     -    |   8.12   \n",
            "   2    |   100   |   0.049807   |     -      |     -     |     -    |   8.11   \n",
            "   2    |   120   |   0.051513   |     -      |     -     |     -    |   8.12   \n",
            "   2    |   140   |   0.053663   |     -      |     -     |     -    |   8.13   \n",
            "   2    |   160   |   0.051311   |     -      |     -     |     -    |   8.11   \n",
            "   2    |   180   |   0.051439   |     -      |     -     |     -    |   8.10   \n",
            "   2    |   200   |   0.048234   |     -      |     -     |     -    |   8.10   \n",
            "   2    |   220   |   0.049602   |     -      |     -     |     -    |   8.10   \n",
            "   2    |   240   |   0.054577   |     -      |     -     |     -    |   8.12   \n",
            "   2    |   249   |   0.054156   |     -      |     -     |     -    |   3.68   \n",
            "----------------------------------------------------------------------\n",
            "   2    |    -    |   0.051339   |  0.025639  |  0.021978  |  109.68  \n",
            "----------------------------------------------------------------------\n",
            "\n",
            "\n",
            "Training complete!\n"
          ],
          "name": "stdout"
        }
      ]
    },
    {
      "cell_type": "markdown",
      "metadata": {
        "id": "qmt9gafc68TV"
      },
      "source": [
        "## Classification Task"
      ]
    },
    {
      "cell_type": "code",
      "metadata": {
        "id": "Brg8ltpD_VIR"
      },
      "source": [
        ""
      ],
      "execution_count": null,
      "outputs": []
    }
  ]
}