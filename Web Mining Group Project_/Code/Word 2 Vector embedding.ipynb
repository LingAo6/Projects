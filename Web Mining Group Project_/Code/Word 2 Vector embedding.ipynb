{
 "cells": [
  {
   "cell_type": "code",
   "execution_count": 14,
   "metadata": {
    "id": "eBgoLBaGfrUG"
   },
   "outputs": [],
   "source": [
    "import pandas as pd\n",
    "import numpy as np\n",
    "from string import punctuation\n",
    "from string import digits\n",
    "from gensim.models import word2vec\n",
    "from sklearn.model_selection import train_test_split\n",
    "from sklearn.svm import SVC\n",
    "from sklearn.linear_model import LogisticRegression\n",
    "from sklearn.svm import LinearSVC\n",
    "from sklearn.linear_model import SGDClassifier\n",
    "from sklearn.ensemble import GradientBoostingClassifier\n",
    "from sklearn.ensemble import RandomForestClassifier\n",
    "import sklearn\n",
    "import re\n",
    "from nltk.tokenize import RegexpTokenizer"
   ]
  },
  {
   "cell_type": "markdown",
   "metadata": {
    "id": "GmRVVVnHK1DX"
   },
   "source": [
    "## Only using reviews"
   ]
  },
  {
   "cell_type": "code",
   "execution_count": 16,
   "metadata": {
    "id": "0IBlx2YvWO34"
   },
   "outputs": [],
   "source": [
    "df = pd.read_csv('new_Manhattan.csv')\n",
    "df = df[df['reviews'] != '[]']\n",
    "Manhattan_reviews = df['reviews']\n",
    "Manhattan_is_closed = df['is_closed']\n",
    "\n",
    "df = pd.read_csv('new_Brooklyn.csv')\n",
    "df = df[df['reviews'] != '[]']\n",
    "Brooklyn_reviews = df['reviews']\n",
    "Brooklyn_is_closed = df['is_closed']"
   ]
  },
  {
   "cell_type": "code",
   "execution_count": 18,
   "metadata": {
    "colab": {
     "base_uri": "https://localhost:8080/",
     "height": 231
    },
    "id": "6PNiLoJ2kKMg",
    "outputId": "84f3deb6-f651-4892-80eb-8e6c82aad936"
   },
   "outputs": [
    {
     "name": "stderr",
     "output_type": "stream",
     "text": [
      "/opt/anaconda3/lib/python3.7/site-packages/ipykernel_launcher.py:18: DeprecationWarning: Call to deprecated `__getitem__` (Method will be removed in 4.0.0, use self.wv.__getitem__() instead).\n",
      "/opt/anaconda3/lib/python3.7/site-packages/sklearn/svm/base.py:193: FutureWarning: The default value of gamma will change from 'auto' to 'scale' in version 0.22 to account better for unscaled features. Set gamma explicitly to 'auto' or 'scale' to avoid this warning.\n",
      "  \"avoid this warning.\", FutureWarning)\n",
      "/opt/anaconda3/lib/python3.7/site-packages/sklearn/linear_model/logistic.py:432: FutureWarning: Default solver will be changed to 'lbfgs' in 0.22. Specify a solver to silence this warning.\n",
      "  FutureWarning)\n",
      "/opt/anaconda3/lib/python3.7/site-packages/sklearn/ensemble/forest.py:245: FutureWarning: The default value of n_estimators will change from 10 in version 0.20 to 100 in 0.22.\n",
      "  \"10 in version 0.20 to 100 in 0.22.\", FutureWarning)\n",
      "/opt/anaconda3/lib/python3.7/site-packages/ipykernel_launcher.py:18: DeprecationWarning: Call to deprecated `__getitem__` (Method will be removed in 4.0.0, use self.wv.__getitem__() instead).\n"
     ]
    }
   ],
   "source": [
    "## train_set, test_set = train_test_split(total_reviews, random_state=2020, test_size=0.3)\n",
    "\n",
    "## list = [re.split('\\n| ',line) for line in train_set['review']]\n",
    "list = [re.split('\\n| ',line) for line in Manhattan_reviews]\n",
    "reviews_divide = [[item.replace(c, '') for c in punctuation for item in line if item != ''] for line in list]\n",
    "\n",
    "## Train Word2Vec Model\n",
    "w2v_model = word2vec.Word2Vec(reviews_divide, size=100, window=5, iter=10, workers=1, seed=2018, min_count=1)\n",
    "\n",
    "## get sentence vectors in train\n",
    "reviews_ints = []\n",
    "def get_sentence_vector(review):\n",
    "    vecs = 0\n",
    "    i = 0\n",
    "    for word in review:     \n",
    "        try:\n",
    "          i = i + 1\n",
    "          vecs += w2v_model[word]\n",
    "        except KeyError:\n",
    "          continue\n",
    "    vecs = vecs / i\n",
    "    return vecs\n",
    "\n",
    "for i in range(len(reviews_divide)):\n",
    "    try:\n",
    "      reviews_ints.append(get_sentence_vector(reviews_divide[i]))\n",
    "    except:\n",
    "      print(i)\n",
    "      print(reviews_divide[i])\n",
    "\n",
    "## Train SVM,logistic regression,SGD,GradientBoosting, RandomForest Model\n",
    "svm_clf =  SVC().fit(np.array(reviews_ints), np.array(Manhattan_is_closed))\n",
    "logistic_clf = LogisticRegression().fit(np.array(reviews_ints), np.array(Manhattan_is_closed))\n",
    "LinearSVC_clf = LinearSVC().fit(np.array(reviews_ints), np.array(Manhattan_is_closed))\n",
    "SGD_clf = SGDClassifier().fit(np.array(reviews_ints), np.array(Manhattan_is_closed))\n",
    "GradientBoosting_clf = GradientBoostingClassifier().fit(np.array(reviews_ints), np.array(Manhattan_is_closed))\n",
    "RandomForest_clf = RandomForestClassifier().fit(np.array(reviews_ints), np.array(Manhattan_is_closed))\n",
    "\n",
    "## Performance in Test set\n",
    "list = [re.split('\\n| ',line) for line in Brooklyn_reviews]\n",
    "reviews_divide = [[item.replace(c, '') for c in punctuation for item in line if item != ''] for line in list]\n",
    "\n",
    "\n",
    "\n",
    "reviews_ints = []\n",
    "for i in range(len(reviews_divide)):\n",
    "    try:\n",
    "      reviews_ints.append(get_sentence_vector(reviews_divide[i]))\n",
    "    except:\n",
    "      print(i)\n",
    "      print(reviews_divide[i])\n",
    "\n",
    "svm_predicted = svm_clf.predict(np.array(reviews_ints))\n",
    "logistic_predicted = logistic_clf.predict(np.array(reviews_ints))\n",
    "LinearSVC_predicted = LinearSVC_clf.predict(np.array(reviews_ints))\n",
    "SGD_predicted = SGD_clf.predict(np.array(reviews_ints))\n",
    "GradientBoosting_predicted = GradientBoosting_clf.predict(np.array(reviews_ints))\n",
    "RandomForest_predicted = RandomForest_clf.predict(np.array(reviews_ints))\n",
    "\n"
   ]
  },
  {
   "cell_type": "code",
   "execution_count": 19,
   "metadata": {
    "colab": {
     "base_uri": "https://localhost:8080/"
    },
    "id": "-bBUeS9uZj1M",
    "outputId": "76cd8bc4-5254-4898-a4ed-216ced15d302"
   },
   "outputs": [
    {
     "name": "stdout",
     "output_type": "stream",
     "text": [
      "svm 0.7818791946308725\n",
      "logistic 0.8322147651006712\n",
      "LinearSVC 0.8120805369127517\n",
      "SGD 0.7953020134228188\n",
      "GradientBoosting 0.8087248322147651\n",
      "RandomForest 0.7885906040268457\n"
     ]
    }
   ],
   "source": [
    "print(\"svm\" ,1 - np.sum((svm_predicted - np.array(Brooklyn_is_closed + 0))**2) / len(svm_predicted))\n",
    "print(\"logistic\" ,1 - np.sum((logistic_predicted  - np.array(Brooklyn_is_closed + 0))**2) / len(logistic_predicted ))\n",
    "print(\"LinearSVC\" ,1 - np.sum((LinearSVC_predicted  - np.array(Brooklyn_is_closed + 0))**2) / len(LinearSVC_predicted ))\n",
    "print(\"SGD\" ,1 - np.sum((SGD_predicted - np.array(Brooklyn_is_closed + 0))**2) / len(SGD_predicted))\n",
    "print(\"GradientBoosting\" ,1 - np.sum((GradientBoosting_predicted - np.array(Brooklyn_is_closed + 0))**2) / len(GradientBoosting_predicted))\n",
    "print(\"RandomForest\" ,1 - np.sum((RandomForest_predicted - np.array(Brooklyn_is_closed + 0))**2) / len(RandomForest_predicted))"
   ]
  },
  {
   "cell_type": "code",
   "execution_count": 21,
   "metadata": {
    "colab": {
     "base_uri": "https://localhost:8080/"
    },
    "id": "_DbtWmlGvRuQ",
    "outputId": "0867700f-85ea-4fdd-8e2d-423c0e9f6f1b"
   },
   "outputs": [
    {
     "name": "stdout",
     "output_type": "stream",
     "text": [
      "0.5\n",
      "0.659755694948828\n",
      "0.663519313304721\n",
      "0.6694288544073952\n",
      "0.6114559260482006\n",
      "0.5597556949488279\n"
     ]
    }
   ],
   "source": [
    "print(sklearn.metrics.roc_auc_score(np.array(Brooklyn_is_closed + 0), svm_predicted))\n",
    "print(sklearn.metrics.roc_auc_score(np.array(Brooklyn_is_closed + 0), logistic_predicted))\n",
    "print(sklearn.metrics.roc_auc_score(np.array(Brooklyn_is_closed + 0), LinearSVC_predicted))\n",
    "print(sklearn.metrics.roc_auc_score(np.array(Brooklyn_is_closed + 0), SGD_predicted))\n",
    "print(sklearn.metrics.roc_auc_score(np.array(Brooklyn_is_closed + 0), GradientBoosting_predicted))\n",
    "print(sklearn.metrics.roc_auc_score(np.array(Brooklyn_is_closed + 0), RandomForest_predicted))"
   ]
  },
  {
   "cell_type": "code",
   "execution_count": null,
   "metadata": {},
   "outputs": [],
   "source": []
  }
 ],
 "metadata": {
  "accelerator": "GPU",
  "colab": {
   "name": "Restaurant Review.ipynb",
   "provenance": [],
   "toc_visible": true
  },
  "kernelspec": {
   "display_name": "Python 3",
   "language": "python",
   "name": "python3"
  },
  "language_info": {
   "codemirror_mode": {
    "name": "ipython",
    "version": 3
   },
   "file_extension": ".py",
   "mimetype": "text/x-python",
   "name": "python",
   "nbconvert_exporter": "python",
   "pygments_lexer": "ipython3",
   "version": "3.7.4"
  }
 },
 "nbformat": 4,
 "nbformat_minor": 1
}
