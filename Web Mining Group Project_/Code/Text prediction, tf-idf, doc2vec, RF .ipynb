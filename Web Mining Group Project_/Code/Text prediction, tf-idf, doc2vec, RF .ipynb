{
 "cells": [
  {
   "cell_type": "code",
   "execution_count": 19,
   "metadata": {},
   "outputs": [],
   "source": [
    "import pandas as pd\n",
    "import numpy as np"
   ]
  },
  {
   "cell_type": "code",
   "execution_count": 169,
   "metadata": {},
   "outputs": [],
   "source": [
    "data = pd.read_csv(\"Manhattan_reviews_closed_10.csv\")\n",
    "data2 = pd.read_csv('Manhattan__openreviews_10.csv')"
   ]
  },
  {
   "cell_type": "code",
   "execution_count": 133,
   "metadata": {},
   "outputs": [],
   "source": [
    "#data = pd.read_csv(\"Brooklyn_reviews_closed_10.csv\")\n",
    "#data2 = pd.read_csv('Brooklyn_openreviews_10.csv')"
   ]
  },
  {
   "cell_type": "code",
   "execution_count": 170,
   "metadata": {},
   "outputs": [],
   "source": [
    "data = data.drop(['name'], axis=1)\n",
    "stacked = data.stack().reset_index(drop=True)\n",
    "df = pd.DataFrame(stacked,columns=['review'])\n",
    "df['is_closed']=1\n",
    "\n",
    "data2 = data2.drop(['name'], axis=1)\n",
    "stacked = data2.stack().reset_index(drop=True)\n",
    "df2 = pd.DataFrame(stacked,columns=['review'])\n",
    "df2['is_closed']=0\n",
    "\n",
    "df=df.append(df2)"
   ]
  },
  {
   "cell_type": "code",
   "execution_count": 171,
   "metadata": {},
   "outputs": [],
   "source": [
    "from nltk.corpus import wordnet\n",
    "\n",
    "def get_wordnet_pos(pos_tag):\n",
    "    if pos_tag.startswith('J'):\n",
    "        return wordnet.ADJ\n",
    "    elif pos_tag.startswith('V'):\n",
    "        return wordnet.VERB\n",
    "    elif pos_tag.startswith('N'):\n",
    "        return wordnet.NOUN\n",
    "    elif pos_tag.startswith('R'):\n",
    "        return wordnet.ADV\n",
    "    else:\n",
    "        return wordnet.NOUN\n",
    "    \n",
    "import string\n",
    "from nltk import pos_tag\n",
    "from nltk.corpus import stopwords\n",
    "from nltk.tokenize import WhitespaceTokenizer\n",
    "from nltk.stem import WordNetLemmatizer\n",
    "\n",
    "def clean_text(text):\n",
    "    text = text.lower()\n",
    "    text = [word.strip(string.punctuation) for word in text.split(\" \")]\n",
    "    text = [word for word in text if not any(c.isdigit() for c in word)]\n",
    "    stop = stopwords.words('english')\n",
    "    text = [x for x in text if x not in stop]\n",
    "    text = [t for t in text if len(t) > 0]\n",
    "    pos_tags = pos_tag(text)\n",
    "    text = [WordNetLemmatizer().lemmatize(t[0], get_wordnet_pos(t[1])) for t in pos_tags]\n",
    "    # remove words with only one letter\n",
    "    text = [t for t in text if len(t) > 1]\n",
    "    # join all\n",
    "    text = \" \".join(text)\n",
    "    return(text)\n",
    "\n",
    "\n",
    "df[\"review_clean\"] = df[\"review\"].apply(lambda x: clean_text(x))"
   ]
  },
  {
   "cell_type": "code",
   "execution_count": 172,
   "metadata": {},
   "outputs": [],
   "source": [
    "# create doc2vec vector columns\n",
    "from gensim.test.utils import common_texts\n",
    "from gensim.models.doc2vec import Doc2Vec, TaggedDocument\n",
    "\n",
    "documents = [TaggedDocument(doc, [i]) for i, doc in enumerate(df[\"review_clean\"].apply(lambda x: x.split(\" \")))]\n",
    "\n",
    "# train a Doc2Vec model with our text data\n",
    "model = Doc2Vec(documents, vector_size=5, window=2, min_count=1, workers=4)\n",
    "\n",
    "# transform each document into a vector data\n",
    "doc2vec_df = df[\"review_clean\"].apply(lambda x: model.infer_vector(x.split(\" \"))).apply(pd.Series)\n",
    "doc2vec_df.columns = [\"doc2vec_vector_\" + str(x) for x in doc2vec_df.columns]\n",
    "df = pd.concat([df, doc2vec_df], axis=1)"
   ]
  },
  {
   "cell_type": "code",
   "execution_count": 173,
   "metadata": {},
   "outputs": [],
   "source": [
    "# add tf-idfs columns\n",
    "from sklearn.feature_extraction.text import TfidfVectorizer\n",
    "tfidf = TfidfVectorizer(min_df=2,stop_words='english')\n",
    "tfidf_result = tfidf.fit_transform(df[\"review_clean\"]).toarray()\n",
    "tfidf_df = pd.DataFrame(tfidf_result, columns = tfidf.get_feature_names())\n",
    "tfidf_df.columns = [\"word_\" + str(x) for x in tfidf_df.columns]\n",
    "tfidf_df.index = df.index\n",
    "df = pd.concat([df, tfidf_df], axis=1)"
   ]
  },
  {
   "cell_type": "code",
   "execution_count": 175,
   "metadata": {},
   "outputs": [
    {
     "data": {
      "text/plain": [
       "(1350, 3937)"
      ]
     },
     "execution_count": 175,
     "metadata": {},
     "output_type": "execute_result"
    }
   ],
   "source": [
    "df.shape"
   ]
  },
  {
   "cell_type": "code",
   "execution_count": 174,
   "metadata": {},
   "outputs": [],
   "source": [
    "# add sentiment anaylsis columns\n",
    "from nltk.sentiment.vader import SentimentIntensityAnalyzer\n",
    "\n",
    "sid = SentimentIntensityAnalyzer()\n",
    "df[\"sentiments\"] = df[\"review\"].apply(lambda x: sid.polarity_scores(x))\n",
    "df = pd.concat([df.drop(['sentiments'], axis=1), df['sentiments'].apply(pd.Series)], axis=1)"
   ]
  },
  {
   "cell_type": "code",
   "execution_count": 176,
   "metadata": {},
   "outputs": [],
   "source": [
    "# feature selection\n",
    "label = \"is_closed\"\n",
    "ignore_cols = [label, \"review\", \"review_clean\"]\n",
    "features = [c for c in df.columns if c not in ignore_cols]\n",
    "\n",
    "# split the data into train and test\n",
    "from sklearn.ensemble import RandomForestClassifier\n",
    "from sklearn.model_selection import train_test_split\n",
    "\n",
    "X_train, X_test, y_train, y_test = train_test_split(df[features], df[label], test_size = 0.20, random_state = 42)"
   ]
  },
  {
   "cell_type": "code",
   "execution_count": 177,
   "metadata": {},
   "outputs": [
    {
     "data": {
      "text/html": [
       "<div>\n",
       "<style scoped>\n",
       "    .dataframe tbody tr th:only-of-type {\n",
       "        vertical-align: middle;\n",
       "    }\n",
       "\n",
       "    .dataframe tbody tr th {\n",
       "        vertical-align: top;\n",
       "    }\n",
       "\n",
       "    .dataframe thead th {\n",
       "        text-align: right;\n",
       "    }\n",
       "</style>\n",
       "<table border=\"1\" class=\"dataframe\">\n",
       "  <thead>\n",
       "    <tr style=\"text-align: right;\">\n",
       "      <th></th>\n",
       "      <th>feature</th>\n",
       "      <th>importance</th>\n",
       "    </tr>\n",
       "  </thead>\n",
       "  <tbody>\n",
       "    <tr>\n",
       "      <th>3930</th>\n",
       "      <td>neg</td>\n",
       "      <td>0.011787</td>\n",
       "    </tr>\n",
       "    <tr>\n",
       "      <th>3933</th>\n",
       "      <td>compound</td>\n",
       "      <td>0.011639</td>\n",
       "    </tr>\n",
       "    <tr>\n",
       "      <th>1333</th>\n",
       "      <td>word_food</td>\n",
       "      <td>0.010941</td>\n",
       "    </tr>\n",
       "    <tr>\n",
       "      <th>250</th>\n",
       "      <td>word_bar</td>\n",
       "      <td>0.010675</td>\n",
       "    </tr>\n",
       "    <tr>\n",
       "      <th>3931</th>\n",
       "      <td>neu</td>\n",
       "      <td>0.010500</td>\n",
       "    </tr>\n",
       "    <tr>\n",
       "      <th>258</th>\n",
       "      <td>word_bartender</td>\n",
       "      <td>0.010438</td>\n",
       "    </tr>\n",
       "    <tr>\n",
       "      <th>3932</th>\n",
       "      <td>pos</td>\n",
       "      <td>0.009945</td>\n",
       "    </tr>\n",
       "    <tr>\n",
       "      <th>4</th>\n",
       "      <td>doc2vec_vector_4</td>\n",
       "      <td>0.007704</td>\n",
       "    </tr>\n",
       "    <tr>\n",
       "      <th>1</th>\n",
       "      <td>doc2vec_vector_1</td>\n",
       "      <td>0.007624</td>\n",
       "    </tr>\n",
       "    <tr>\n",
       "      <th>3</th>\n",
       "      <td>doc2vec_vector_3</td>\n",
       "      <td>0.007056</td>\n",
       "    </tr>\n",
       "  </tbody>\n",
       "</table>\n",
       "</div>"
      ],
      "text/plain": [
       "               feature  importance\n",
       "3930               neg    0.011787\n",
       "3933          compound    0.011639\n",
       "1333         word_food    0.010941\n",
       "250           word_bar    0.010675\n",
       "3931               neu    0.010500\n",
       "258     word_bartender    0.010438\n",
       "3932               pos    0.009945\n",
       "4     doc2vec_vector_4    0.007704\n",
       "1     doc2vec_vector_1    0.007624\n",
       "3     doc2vec_vector_3    0.007056"
      ]
     },
     "execution_count": 177,
     "metadata": {},
     "output_type": "execute_result"
    }
   ],
   "source": [
    "# train a random forest classifier\n",
    "rf = RandomForestClassifier(n_estimators = 100, random_state = 42)\n",
    "rf.fit(X_train, y_train)\n",
    "\n",
    "# show feature importance\n",
    "feature_importances_df = pd.DataFrame({\"feature\": features, \"importance\": rf.feature_importances_}).sort_values(\"importance\", ascending = False)\n",
    "feature_importances_df.head(10)"
   ]
  },
  {
   "cell_type": "code",
   "execution_count": 132,
   "metadata": {},
   "outputs": [
    {
     "data": {
      "text/html": [
       "<div>\n",
       "<style scoped>\n",
       "    .dataframe tbody tr th:only-of-type {\n",
       "        vertical-align: middle;\n",
       "    }\n",
       "\n",
       "    .dataframe tbody tr th {\n",
       "        vertical-align: top;\n",
       "    }\n",
       "\n",
       "    .dataframe thead th {\n",
       "        text-align: right;\n",
       "    }\n",
       "</style>\n",
       "<table border=\"1\" class=\"dataframe\">\n",
       "  <thead>\n",
       "    <tr style=\"text-align: right;\">\n",
       "      <th></th>\n",
       "      <th>0</th>\n",
       "      <th>1</th>\n",
       "    </tr>\n",
       "  </thead>\n",
       "  <tbody>\n",
       "    <tr>\n",
       "      <th>0</th>\n",
       "      <td>174</td>\n",
       "      <td>13</td>\n",
       "    </tr>\n",
       "    <tr>\n",
       "      <th>1</th>\n",
       "      <td>51</td>\n",
       "      <td>32</td>\n",
       "    </tr>\n",
       "  </tbody>\n",
       "</table>\n",
       "</div>"
      ],
      "text/plain": [
       "     0   1\n",
       "0  174  13\n",
       "1   51  32"
      ]
     },
     "execution_count": 132,
     "metadata": {},
     "output_type": "execute_result"
    }
   ],
   "source": [
    "from sklearn.metrics import confusion_matrix \n",
    "pd.DataFrame(confusion_matrix(y_test, svm.predict(X_test), labels=[0, 1])) "
   ]
  },
  {
   "cell_type": "code",
   "execution_count": 150,
   "metadata": {},
   "outputs": [
    {
     "data": {
      "image/png": "[encoded data removed]",
      "text/plain": [
       "<Figure size 432x288 with 2 Axes>"
      ]
     },
     "metadata": {
      "needs_background": "light"
     },
     "output_type": "display_data"
    }
   ],
   "source": [
    "import seaborn as sns\n",
    "import matplotlib.pyplot as plt\n",
    "%matplotlib inline\n",
    "\n",
    "cm = pd.DataFrame(confusion_matrix(y_test, svm.predict(X_test), labels=[0, 1])) \n",
    "LABELS = ['open', 'close']\n",
    "sns.heatmap(cm, annot=True, xticklabels=LABELS, yticklabels=LABELS, fmt='g').set_title(\"SVM for Manhattan reviews\")\n",
    "\n",
    "xl = plt.xlabel(\"Predicted\")\n",
    "yl = plt.ylabel(\"Actuals\")"
   ]
  },
  {
   "cell_type": "code",
   "execution_count": 162,
   "metadata": {},
   "outputs": [
    {
     "name": "stdout",
     "output_type": "stream",
     "text": [
      "              precision    recall  f1-score   support\n",
      "\n",
      "        open       0.73      0.99      0.84       187\n",
      "       close       0.87      0.16      0.27        83\n",
      "\n",
      "    accuracy                           0.73       270\n",
      "   macro avg       0.80      0.57      0.55       270\n",
      "weighted avg       0.77      0.73      0.66       270\n",
      "\n"
     ]
    }
   ],
   "source": [
    "from sklearn.metrics import classification_report\n",
    "predicted = rf.predict(X_test)\n",
    "print(classification_report(y_test, predicted, target_names=LABELS))"
   ]
  },
  {
   "cell_type": "code",
   "execution_count": 178,
   "metadata": {},
   "outputs": [
    {
     "name": "stdout",
     "output_type": "stream",
     "text": [
      "f1 macro: 0.5555\n",
      "AUC: 0.7717\n"
     ]
    }
   ],
   "source": [
    "#RF\n",
    "from sklearn.metrics import f1_score\n",
    "from sklearn.metrics import roc_curve, auc,precision_recall_curve\n",
    "\n",
    "predicted = rf.predict(X_test)\n",
    "f1_score = f1_score(y_test, predicted,average='macro')\n",
    "\n",
    "predict_p=rf.predict_proba(X_test)\n",
    "y_pred = predict_p[:,1]\n",
    "fpr, tpr, thresholds = roc_curve(y_test, y_pred)\n",
    "\n",
    "print('f1 macro:', '%.4f'%f1_score)\n",
    "print(\"AUC: {:.4}\".format(auc(fpr, tpr)))"
   ]
  },
  {
   "cell_type": "code",
   "execution_count": 163,
   "metadata": {},
   "outputs": [
    {
     "name": "stdout",
     "output_type": "stream",
     "text": [
      "Mean CV Accuracy: 0.7305555555555555\n",
      "Test Accuracy: 0.7407407407407407\n"
     ]
    }
   ],
   "source": [
    "from sklearn.model_selection import cross_val_score\n",
    "from sklearn.linear_model import LogisticRegression\n",
    "\n",
    "lr = LogisticRegression(penalty='l2', max_iter=100, C=1, random_state=42)\n",
    "lr.fit(X_train, y_train)\n",
    "lr_cv_scores = cross_val_score(lr, X_train,  y_train, cv=5)\n",
    "lr_cv_mean_score = np.mean(lr_cv_scores)\n",
    "lr_test_score = lr.score(X_test, y_test)\n",
    "print('Mean CV Accuracy:', lr_cv_mean_score )\n",
    "print('Test Accuracy:', lr_test_score)"
   ]
  },
  {
   "cell_type": "code",
   "execution_count": 125,
   "metadata": {},
   "outputs": [
    {
     "name": "stdout",
     "output_type": "stream",
     "text": [
      "Mean CV Accuracy: 0.7833333333333334\n",
      "Test Accuracy: 0.762962962962963\n"
     ]
    }
   ],
   "source": [
    "from sklearn.svm import LinearSVC\n",
    "\n",
    "svm = LinearSVC(penalty='l2', C=1, random_state=42)\n",
    "svm.fit(X_train, y_train)\n",
    "svm_cv_scores = cross_val_score(svm, X_train,  y_train, cv=5)\n",
    "svm_cv_mean_score = np.mean(svm_cv_scores)\n",
    "svm_test_score = svm.score(X_test, y_test)\n",
    "print('Mean CV Accuracy:', svm_cv_mean_score)\n",
    "print('Test Accuracy:', svm_test_score)"
   ]
  },
  {
   "cell_type": "code",
   "execution_count": 127,
   "metadata": {},
   "outputs": [
    {
     "name": "stdout",
     "output_type": "stream",
     "text": [
      "              precision    recall  f1-score   support\n",
      "\n",
      "        open       0.77      0.93      0.84       187\n",
      "       close       0.71      0.39      0.50        83\n",
      "\n",
      "    accuracy                           0.76       270\n",
      "   macro avg       0.74      0.66      0.67       270\n",
      "weighted avg       0.75      0.76      0.74       270\n",
      "\n"
     ]
    }
   ],
   "source": [
    "from sklearn.metrics import classification_report\n",
    "predicted = svm.predict(X_test)\n",
    "print(classification_report(y_test, predicted, target_names=LABELS))"
   ]
  },
  {
   "cell_type": "code",
   "execution_count": 164,
   "metadata": {},
   "outputs": [
    {
     "name": "stdout",
     "output_type": "stream",
     "text": [
      "Mean CV Accuracy: 0.7712962962962963\n",
      "Test Accuracy: 0.7592592592592593\n"
     ]
    }
   ],
   "source": [
    "from sklearn.linear_model import SGDClassifier\n",
    "\n",
    "svm_sgd = SGDClassifier(loss='hinge', penalty='l2',  random_state=42)\n",
    "svm_sgd.fit(X_train, y_train)\n",
    "svmsgd_cv_scores = cross_val_score(svm_sgd, X_train,  y_train, cv=5)\n",
    "svmsgd_cv_mean_score = np.mean(svmsgd_cv_scores)\n",
    "svmsgd_test_score = svm_sgd.score(X_test, y_test)\n",
    "print('Mean CV Accuracy:', svmsgd_cv_mean_score)\n",
    "print('Test Accuracy:', svmsgd_test_score)"
   ]
  },
  {
   "cell_type": "code",
   "execution_count": 165,
   "metadata": {},
   "outputs": [
    {
     "name": "stdout",
     "output_type": "stream",
     "text": [
      "Mean CV Accuracy: 0.711111111111111\n",
      "Test Accuracy: 0.7\n"
     ]
    }
   ],
   "source": [
    "from sklearn.ensemble import GradientBoostingClassifier\n",
    "\n",
    "gbc = GradientBoostingClassifier(n_estimators=10, random_state=42)\n",
    "gbc.fit(X_train, y_train)\n",
    "gbc_cv_scores = cross_val_score(gbc, X_train, y_train, cv=5)\n",
    "gbc_cv_mean_score = np.mean(gbc_cv_scores)\n",
    "gbc_test_score = gbc.score(X_test, y_test)\n",
    "print('Mean CV Accuracy:', gbc_cv_mean_score )\n",
    "print('Test Accuracy:', gbc_test_score)"
   ]
  },
  {
   "cell_type": "code",
   "execution_count": 185,
   "metadata": {},
   "outputs": [
    {
     "name": "stdout",
     "output_type": "stream",
     "text": [
      "Mean CV Accuracy: 0.725\n",
      "Test Accuracy: 0.7296296296296296\n"
     ]
    }
   ],
   "source": [
    "rfc = RandomForestClassifier(n_estimators=100, random_state=42)\n",
    "rfc.fit(X_train, y_train)\n",
    "rfc_cv_scores = cross_val_score(rfc, X_train, y_train, cv=5)\n",
    "rfc_cv_mean_score = np.mean(rfc_cv_scores)\n",
    "rfc_test_score = rfc.score(X_test, y_test)\n",
    "print('Mean CV Accuracy:', rfc_cv_mean_score )\n",
    "print('Test Accuracy:', rfc_test_score)"
   ]
  },
  {
   "cell_type": "code",
   "execution_count": null,
   "metadata": {},
   "outputs": [],
   "source": [
    "#To make prediction on the new data set\n",
    "\n",
    "#Load the data the same you load your test set\n",
    "#Apply all the per-processing steps applied on your training set.\n",
    "#Use the model.predict(X)\n"
   ]
  },
  {
   "cell_type": "code",
   "execution_count": 139,
   "metadata": {},
   "outputs": [],
   "source": [
    "# feature selection\n",
    "label = \"is_closed\"\n",
    "ignore_cols = [label, \"review\", \"review_clean\"]\n",
    "features = [c for c in df.columns if c not in ignore_cols]\n",
    "\n",
    "# split the data into train and test\n",
    "from sklearn.ensemble import RandomForestClassifier\n",
    "from sklearn.model_selection import train_test_split\n",
    "\n",
    "B_train, B_test, b_train, b_test = train_test_split(df[features], df[label], test_size = 0.20, random_state = 42)"
   ]
  },
  {
   "cell_type": "code",
   "execution_count": 141,
   "metadata": {},
   "outputs": [],
   "source": [
    "# Get missing columns in the training test\n",
    "missing_cols = set( X_train.columns ) - set( B_test.columns )\n",
    "# Add a missing column in test set with default value equal to 0\n",
    "for c in missing_cols:\n",
    "    B_test[c] = 0\n",
    "# Ensure the order of column in the test set is in the same order than in train set\n",
    "B_test = B_test[X_train.columns]"
   ]
  },
  {
   "cell_type": "code",
   "execution_count": 144,
   "metadata": {},
   "outputs": [
    {
     "name": "stdout",
     "output_type": "stream",
     "text": [
      "              precision    recall  f1-score   support\n",
      "\n",
      "        open       0.77      0.84      0.80        89\n",
      "       close       0.36      0.26      0.30        31\n",
      "\n",
      "    accuracy                           0.69       120\n",
      "   macro avg       0.56      0.55      0.55       120\n",
      "weighted avg       0.66      0.69      0.67       120\n",
      "\n"
     ]
    }
   ],
   "source": [
    "#Prediction on Brooklyn\n",
    "from sklearn.metrics import classification_report\n",
    "predicted = svm.predict(B_test)\n",
    "print(classification_report(b_test, predicted, target_names=LABELS))"
   ]
  },
  {
   "cell_type": "code",
   "execution_count": 149,
   "metadata": {},
   "outputs": [
    {
     "data": {
      "image/png": "[encoded data removed]",
      "text/plain": [
       "<Figure size 432x288 with 2 Axes>"
      ]
     },
     "metadata": {
      "needs_background": "light"
     },
     "output_type": "display_data"
    }
   ],
   "source": [
    "cm = pd.DataFrame(confusion_matrix(b_test, svm.predict(B_test), labels=[0, 1])) \n",
    "LABELS = ['open', 'close']\n",
    "sns.heatmap(cm, annot=True, xticklabels=LABELS, yticklabels=LABELS, fmt='g').set_title(\"SVM for Brooklyn reviews\")\n",
    "\n",
    "xl = plt.xlabel(\"Predicted\")\n",
    "yl = plt.ylabel(\"Actuals\")"
   ]
  },
  {
   "cell_type": "code",
   "execution_count": 184,
   "metadata": {},
   "outputs": [
    {
     "name": "stdout",
     "output_type": "stream",
     "text": [
      "AUC: 0.643\n"
     ]
    }
   ],
   "source": [
    "predict_p=rf.predict_proba(B_test)\n",
    "y_pred = predict_p[:,1]\n",
    "fpr, tpr, thresholds = roc_curve(b_test, y_pred)\n",
    "print(\"AUC: {:.4}\".format(auc(fpr, tpr)))"
   ]
  }
 ],
 "metadata": {
  "kernelspec": {
   "display_name": "Python 3",
   "language": "python",
   "name": "python3"
  },
  "language_info": {
   "codemirror_mode": {
    "name": "ipython",
    "version": 3
   },
   "file_extension": ".py",
   "mimetype": "text/x-python",
   "name": "python",
   "nbconvert_exporter": "python",
   "pygments_lexer": "ipython3",
   "version": "3.8.3"
  }
 },
 "nbformat": 4,
 "nbformat_minor": 4
}
