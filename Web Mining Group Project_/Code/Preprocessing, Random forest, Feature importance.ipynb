{
 "cells": [
  {
   "cell_type": "code",
   "execution_count": 1,
   "metadata": {},
   "outputs": [],
   "source": [
    "import pandas as pd \n",
    "import numpy as np"
   ]
  },
  {
   "cell_type": "code",
   "execution_count": 43,
   "metadata": {},
   "outputs": [],
   "source": [
    "df = pd.read_csv('NYC1000.csv')"
   ]
  },
  {
   "cell_type": "code",
   "execution_count": 44,
   "metadata": {},
   "outputs": [
    {
     "data": {
      "text/plain": [
       "Index(['id', 'alias', 'name', 'image_url', 'is_closed', 'url', 'review_count',\n",
       "       'categories', 'rating', 'coordinates', 'transactions', 'price',\n",
       "       'location', 'phone', 'display_phone', 'distance'],\n",
       "      dtype='object')"
      ]
     },
     "execution_count": 44,
     "metadata": {},
     "output_type": "execute_result"
    }
   ],
   "source": [
    "df.columns"
   ]
  },
  {
   "cell_type": "code",
   "execution_count": 45,
   "metadata": {},
   "outputs": [],
   "source": [
    "df = df.drop(['id','alias','name','image_url','is_closed','url','coordinates','transactions','location',\\\n",
    "             'phone','display_phone','distance'],axis=1)"
   ]
  },
  {
   "cell_type": "code",
   "execution_count": 46,
   "metadata": {},
   "outputs": [
    {
     "data": {
      "text/plain": [
       "review_count     0\n",
       "categories       0\n",
       "rating           0\n",
       "price           81\n",
       "dtype: int64"
      ]
     },
     "execution_count": 46,
     "metadata": {},
     "output_type": "execute_result"
    }
   ],
   "source": [
    "df.isnull().sum()"
   ]
  },
  {
   "cell_type": "code",
   "execution_count": 47,
   "metadata": {},
   "outputs": [],
   "source": [
    "df = df.dropna()"
   ]
  },
  {
   "cell_type": "code",
   "execution_count": 48,
   "metadata": {},
   "outputs": [
    {
     "data": {
      "text/plain": [
       "array(['$$', '$', '$$$', '$$$$'], dtype=object)"
      ]
     },
     "execution_count": 48,
     "metadata": {},
     "output_type": "execute_result"
    }
   ],
   "source": [
    "df.price.unique()"
   ]
  },
  {
   "cell_type": "code",
   "execution_count": 49,
   "metadata": {},
   "outputs": [],
   "source": [
    "p={'$$':2, '$':1, '$$$':3, '$$$$':4}\n",
    "df['price']=df['price'].map(p)"
   ]
  },
  {
   "cell_type": "code",
   "execution_count": 50,
   "metadata": {},
   "outputs": [],
   "source": [
    "cat_lst = df['categories'].tolist()"
   ]
  },
  {
   "cell_type": "code",
   "execution_count": 51,
   "metadata": {},
   "outputs": [],
   "source": [
    "from nltk.tokenize import RegexpTokenizer\n",
    "tokenizer = RegexpTokenizer(r'\\w+')\n",
    "lst=[]\n",
    "for n in range(len(df)):\n",
    "    tokens=tokenizer.tokenize(cat_lst[n])\n",
    "    lst.append(tokens[1])\n",
    "    \n",
    "df=df.drop(['categories'],axis=1)\n",
    "df['categories']=lst"
   ]
  },
  {
   "cell_type": "code",
   "execution_count": 52,
   "metadata": {},
   "outputs": [],
   "source": [
    "df['is_closed']=0"
   ]
  },
  {
   "cell_type": "code",
   "execution_count": 53,
   "metadata": {},
   "outputs": [],
   "source": [
    "df2=pd.read_csv('close_data.csv')"
   ]
  },
  {
   "cell_type": "code",
   "execution_count": 54,
   "metadata": {},
   "outputs": [
    {
     "data": {
      "text/plain": [
       "Index(['Unnamed: 0', 'id', 'alias', 'name', 'image_url', 'is_claimed',\n",
       "       'is_closed', 'url', 'phone', 'display_phone', 'review_count',\n",
       "       'categories', 'rating', 'location', 'coordinates', 'photos', 'price',\n",
       "       'hours', 'transactions', 'special_hours', 'Unnamed: 20'],\n",
       "      dtype='object')"
      ]
     },
     "execution_count": 54,
     "metadata": {},
     "output_type": "execute_result"
    }
   ],
   "source": [
    "df2.columns"
   ]
  },
  {
   "cell_type": "code",
   "execution_count": 55,
   "metadata": {},
   "outputs": [],
   "source": [
    "df2 = df2.drop(['Unnamed: 0','id','alias','name','image_url','is_claimed','is_closed','url',\\\n",
    "                   'phone','display_phone','location','coordinates','photos','hours','special_hours',\\\n",
    "                   'Unnamed: 20','transactions'],axis=1)"
   ]
  },
  {
   "cell_type": "code",
   "execution_count": 56,
   "metadata": {},
   "outputs": [],
   "source": [
    "df2.isnull().sum()\n",
    "df2 = df2.dropna()"
   ]
  },
  {
   "cell_type": "code",
   "execution_count": 57,
   "metadata": {},
   "outputs": [
    {
     "data": {
      "text/plain": [
       "array(['$$', '$', '$$$', '$$$$'], dtype=object)"
      ]
     },
     "execution_count": 57,
     "metadata": {},
     "output_type": "execute_result"
    }
   ],
   "source": [
    "df2.price.unique()"
   ]
  },
  {
   "cell_type": "code",
   "execution_count": 58,
   "metadata": {},
   "outputs": [],
   "source": [
    "df2['price']=df2['price'].map(p)"
   ]
  },
  {
   "cell_type": "code",
   "execution_count": 59,
   "metadata": {},
   "outputs": [],
   "source": [
    "cat2_lst = df2['categories'].tolist()"
   ]
  },
  {
   "cell_type": "code",
   "execution_count": 60,
   "metadata": {},
   "outputs": [],
   "source": [
    "from nltk.tokenize import RegexpTokenizer\n",
    "tokenizer = RegexpTokenizer(r'\\w+')\n",
    "lst=[]\n",
    "for n in range(len(df2)):\n",
    "    tokens=tokenizer.tokenize(cat2_lst[n])\n",
    "    lst.append(tokens[1])\n",
    "    \n",
    "df2=df2.drop(['categories'],axis=1)\n",
    "df2['categories']=lst"
   ]
  },
  {
   "cell_type": "code",
   "execution_count": 61,
   "metadata": {},
   "outputs": [],
   "source": [
    "df2['is_closed']=1"
   ]
  },
  {
   "cell_type": "code",
   "execution_count": 62,
   "metadata": {},
   "outputs": [],
   "source": [
    "result = df.append(df2)"
   ]
  },
  {
   "cell_type": "code",
   "execution_count": 95,
   "metadata": {},
   "outputs": [
    {
     "data": {
      "text/html": [
       "<div>\n",
       "<style scoped>\n",
       "    .dataframe tbody tr th:only-of-type {\n",
       "        vertical-align: middle;\n",
       "    }\n",
       "\n",
       "    .dataframe tbody tr th {\n",
       "        vertical-align: top;\n",
       "    }\n",
       "\n",
       "    .dataframe thead th {\n",
       "        text-align: right;\n",
       "    }\n",
       "</style>\n",
       "<table border=\"1\" class=\"dataframe\">\n",
       "  <thead>\n",
       "    <tr style=\"text-align: right;\">\n",
       "      <th></th>\n",
       "      <th>review_count</th>\n",
       "      <th>rating</th>\n",
       "      <th>price</th>\n",
       "      <th>categories</th>\n",
       "      <th>is_closed</th>\n",
       "    </tr>\n",
       "  </thead>\n",
       "  <tbody>\n",
       "    <tr>\n",
       "      <th>0</th>\n",
       "      <td>322</td>\n",
       "      <td>5.0</td>\n",
       "      <td>2</td>\n",
       "      <td>newamerican</td>\n",
       "      <td>0</td>\n",
       "    </tr>\n",
       "    <tr>\n",
       "      <th>1</th>\n",
       "      <td>162</td>\n",
       "      <td>5.0</td>\n",
       "      <td>2</td>\n",
       "      <td>soulfood</td>\n",
       "      <td>0</td>\n",
       "    </tr>\n",
       "    <tr>\n",
       "      <th>2</th>\n",
       "      <td>890</td>\n",
       "      <td>5.0</td>\n",
       "      <td>2</td>\n",
       "      <td>gastropubs</td>\n",
       "      <td>0</td>\n",
       "    </tr>\n",
       "    <tr>\n",
       "      <th>3</th>\n",
       "      <td>1418</td>\n",
       "      <td>4.5</td>\n",
       "      <td>2</td>\n",
       "      <td>korean</td>\n",
       "      <td>0</td>\n",
       "    </tr>\n",
       "    <tr>\n",
       "      <th>4</th>\n",
       "      <td>129</td>\n",
       "      <td>5.0</td>\n",
       "      <td>2</td>\n",
       "      <td>italian</td>\n",
       "      <td>0</td>\n",
       "    </tr>\n",
       "    <tr>\n",
       "      <th>...</th>\n",
       "      <td>...</td>\n",
       "      <td>...</td>\n",
       "      <td>...</td>\n",
       "      <td>...</td>\n",
       "      <td>...</td>\n",
       "    </tr>\n",
       "    <tr>\n",
       "      <th>297</th>\n",
       "      <td>136</td>\n",
       "      <td>3.5</td>\n",
       "      <td>2</td>\n",
       "      <td>tradamerican</td>\n",
       "      <td>1</td>\n",
       "    </tr>\n",
       "    <tr>\n",
       "      <th>298</th>\n",
       "      <td>282</td>\n",
       "      <td>3.5</td>\n",
       "      <td>2</td>\n",
       "      <td>bars</td>\n",
       "      <td>1</td>\n",
       "    </tr>\n",
       "    <tr>\n",
       "      <th>299</th>\n",
       "      <td>992</td>\n",
       "      <td>4.0</td>\n",
       "      <td>3</td>\n",
       "      <td>lounges</td>\n",
       "      <td>1</td>\n",
       "    </tr>\n",
       "    <tr>\n",
       "      <th>300</th>\n",
       "      <td>283</td>\n",
       "      <td>3.5</td>\n",
       "      <td>2</td>\n",
       "      <td>bars</td>\n",
       "      <td>1</td>\n",
       "    </tr>\n",
       "    <tr>\n",
       "      <th>301</th>\n",
       "      <td>287</td>\n",
       "      <td>4.0</td>\n",
       "      <td>1</td>\n",
       "      <td>coffee</td>\n",
       "      <td>1</td>\n",
       "    </tr>\n",
       "  </tbody>\n",
       "</table>\n",
       "<p>1197 rows × 5 columns</p>\n",
       "</div>"
      ],
      "text/plain": [
       "     review_count  rating  price    categories  is_closed\n",
       "0             322     5.0      2   newamerican          0\n",
       "1             162     5.0      2      soulfood          0\n",
       "2             890     5.0      2    gastropubs          0\n",
       "3            1418     4.5      2        korean          0\n",
       "4             129     5.0      2       italian          0\n",
       "..            ...     ...    ...           ...        ...\n",
       "297           136     3.5      2  tradamerican          1\n",
       "298           282     3.5      2          bars          1\n",
       "299           992     4.0      3       lounges          1\n",
       "300           283     3.5      2          bars          1\n",
       "301           287     4.0      1        coffee          1\n",
       "\n",
       "[1197 rows x 5 columns]"
      ]
     },
     "execution_count": 95,
     "metadata": {},
     "output_type": "execute_result"
    }
   ],
   "source": [
    "result"
   ]
  },
  {
   "cell_type": "code",
   "execution_count": 89,
   "metadata": {},
   "outputs": [
    {
     "data": {
      "text/plain": [
       "(1197, 5)"
      ]
     },
     "execution_count": 89,
     "metadata": {},
     "output_type": "execute_result"
    }
   ],
   "source": [
    "result.shape"
   ]
  },
  {
   "cell_type": "code",
   "execution_count": 64,
   "metadata": {},
   "outputs": [],
   "source": [
    "data = pd.get_dummies(result)"
   ]
  },
  {
   "cell_type": "code",
   "execution_count": 65,
   "metadata": {},
   "outputs": [
    {
     "data": {
      "text/plain": [
       "(1197, 153)"
      ]
     },
     "execution_count": 65,
     "metadata": {},
     "output_type": "execute_result"
    }
   ],
   "source": [
    "data.shape"
   ]
  },
  {
   "cell_type": "code",
   "execution_count": 66,
   "metadata": {},
   "outputs": [
    {
     "data": {
      "text/plain": [
       "0    919\n",
       "1    278\n",
       "Name: is_closed, dtype: int64"
      ]
     },
     "execution_count": 66,
     "metadata": {},
     "output_type": "execute_result"
    }
   ],
   "source": [
    "data['is_closed'].value_counts()"
   ]
  },
  {
   "cell_type": "code",
   "execution_count": 67,
   "metadata": {},
   "outputs": [],
   "source": [
    "from sklearn.model_selection import train_test_split \n",
    "from sklearn.metrics import confusion_matrix \n",
    "from sklearn.metrics import classification_report\n",
    "from sklearn.model_selection import cross_val_score\n",
    "from sklearn.ensemble import RandomForestClassifier"
   ]
  },
  {
   "cell_type": "code",
   "execution_count": 81,
   "metadata": {},
   "outputs": [],
   "source": [
    "train, test = train_test_split(data, test_size = 0.34)"
   ]
  },
  {
   "cell_type": "code",
   "execution_count": 69,
   "metadata": {},
   "outputs": [
    {
     "data": {
      "text/html": [
       "<div>\n",
       "<style scoped>\n",
       "    .dataframe tbody tr th:only-of-type {\n",
       "        vertical-align: middle;\n",
       "    }\n",
       "\n",
       "    .dataframe tbody tr th {\n",
       "        vertical-align: top;\n",
       "    }\n",
       "\n",
       "    .dataframe thead th {\n",
       "        text-align: right;\n",
       "    }\n",
       "</style>\n",
       "<table border=\"1\" class=\"dataframe\">\n",
       "  <thead>\n",
       "    <tr style=\"text-align: right;\">\n",
       "      <th></th>\n",
       "      <th>review_count</th>\n",
       "      <th>rating</th>\n",
       "      <th>price</th>\n",
       "      <th>is_closed</th>\n",
       "      <th>categories_afghani</th>\n",
       "      <th>categories_african</th>\n",
       "      <th>categories_argentine</th>\n",
       "      <th>categories_asianfusion</th>\n",
       "      <th>categories_australian</th>\n",
       "      <th>categories_austrian</th>\n",
       "      <th>...</th>\n",
       "      <th>categories_ukrainian</th>\n",
       "      <th>categories_uzbek</th>\n",
       "      <th>categories_vegan</th>\n",
       "      <th>categories_vegetarian</th>\n",
       "      <th>categories_venezuelan</th>\n",
       "      <th>categories_venues</th>\n",
       "      <th>categories_vietnamese</th>\n",
       "      <th>categories_waffles</th>\n",
       "      <th>categories_whiskeybars</th>\n",
       "      <th>categories_wine_bars</th>\n",
       "    </tr>\n",
       "  </thead>\n",
       "  <tbody>\n",
       "    <tr>\n",
       "      <th>count</th>\n",
       "      <td>790.000000</td>\n",
       "      <td>790.000000</td>\n",
       "      <td>790.000000</td>\n",
       "      <td>790.000000</td>\n",
       "      <td>790.0</td>\n",
       "      <td>790.000000</td>\n",
       "      <td>790.000000</td>\n",
       "      <td>790.000000</td>\n",
       "      <td>790.000000</td>\n",
       "      <td>790.000000</td>\n",
       "      <td>...</td>\n",
       "      <td>790.000000</td>\n",
       "      <td>790.000000</td>\n",
       "      <td>790.000000</td>\n",
       "      <td>790.000000</td>\n",
       "      <td>790.000000</td>\n",
       "      <td>790.0</td>\n",
       "      <td>790.000000</td>\n",
       "      <td>790.000000</td>\n",
       "      <td>790.000000</td>\n",
       "      <td>790.000000</td>\n",
       "    </tr>\n",
       "    <tr>\n",
       "      <th>mean</th>\n",
       "      <td>481.046835</td>\n",
       "      <td>4.337975</td>\n",
       "      <td>1.970886</td>\n",
       "      <td>0.229114</td>\n",
       "      <td>0.0</td>\n",
       "      <td>0.001266</td>\n",
       "      <td>0.002532</td>\n",
       "      <td>0.006329</td>\n",
       "      <td>0.001266</td>\n",
       "      <td>0.001266</td>\n",
       "      <td>...</td>\n",
       "      <td>0.001266</td>\n",
       "      <td>0.001266</td>\n",
       "      <td>0.008861</td>\n",
       "      <td>0.010127</td>\n",
       "      <td>0.003797</td>\n",
       "      <td>0.0</td>\n",
       "      <td>0.010127</td>\n",
       "      <td>0.001266</td>\n",
       "      <td>0.001266</td>\n",
       "      <td>0.015190</td>\n",
       "    </tr>\n",
       "    <tr>\n",
       "      <th>std</th>\n",
       "      <td>745.623428</td>\n",
       "      <td>0.412511</td>\n",
       "      <td>0.683251</td>\n",
       "      <td>0.420529</td>\n",
       "      <td>0.0</td>\n",
       "      <td>0.035578</td>\n",
       "      <td>0.050284</td>\n",
       "      <td>0.079354</td>\n",
       "      <td>0.035578</td>\n",
       "      <td>0.035578</td>\n",
       "      <td>...</td>\n",
       "      <td>0.035578</td>\n",
       "      <td>0.035578</td>\n",
       "      <td>0.093773</td>\n",
       "      <td>0.100184</td>\n",
       "      <td>0.061545</td>\n",
       "      <td>0.0</td>\n",
       "      <td>0.100184</td>\n",
       "      <td>0.035578</td>\n",
       "      <td>0.035578</td>\n",
       "      <td>0.122385</td>\n",
       "    </tr>\n",
       "    <tr>\n",
       "      <th>min</th>\n",
       "      <td>14.000000</td>\n",
       "      <td>2.000000</td>\n",
       "      <td>1.000000</td>\n",
       "      <td>0.000000</td>\n",
       "      <td>0.0</td>\n",
       "      <td>0.000000</td>\n",
       "      <td>0.000000</td>\n",
       "      <td>0.000000</td>\n",
       "      <td>0.000000</td>\n",
       "      <td>0.000000</td>\n",
       "      <td>...</td>\n",
       "      <td>0.000000</td>\n",
       "      <td>0.000000</td>\n",
       "      <td>0.000000</td>\n",
       "      <td>0.000000</td>\n",
       "      <td>0.000000</td>\n",
       "      <td>0.0</td>\n",
       "      <td>0.000000</td>\n",
       "      <td>0.000000</td>\n",
       "      <td>0.000000</td>\n",
       "      <td>0.000000</td>\n",
       "    </tr>\n",
       "    <tr>\n",
       "      <th>25%</th>\n",
       "      <td>138.500000</td>\n",
       "      <td>4.000000</td>\n",
       "      <td>2.000000</td>\n",
       "      <td>0.000000</td>\n",
       "      <td>0.0</td>\n",
       "      <td>0.000000</td>\n",
       "      <td>0.000000</td>\n",
       "      <td>0.000000</td>\n",
       "      <td>0.000000</td>\n",
       "      <td>0.000000</td>\n",
       "      <td>...</td>\n",
       "      <td>0.000000</td>\n",
       "      <td>0.000000</td>\n",
       "      <td>0.000000</td>\n",
       "      <td>0.000000</td>\n",
       "      <td>0.000000</td>\n",
       "      <td>0.0</td>\n",
       "      <td>0.000000</td>\n",
       "      <td>0.000000</td>\n",
       "      <td>0.000000</td>\n",
       "      <td>0.000000</td>\n",
       "    </tr>\n",
       "    <tr>\n",
       "      <th>50%</th>\n",
       "      <td>271.000000</td>\n",
       "      <td>4.500000</td>\n",
       "      <td>2.000000</td>\n",
       "      <td>0.000000</td>\n",
       "      <td>0.0</td>\n",
       "      <td>0.000000</td>\n",
       "      <td>0.000000</td>\n",
       "      <td>0.000000</td>\n",
       "      <td>0.000000</td>\n",
       "      <td>0.000000</td>\n",
       "      <td>...</td>\n",
       "      <td>0.000000</td>\n",
       "      <td>0.000000</td>\n",
       "      <td>0.000000</td>\n",
       "      <td>0.000000</td>\n",
       "      <td>0.000000</td>\n",
       "      <td>0.0</td>\n",
       "      <td>0.000000</td>\n",
       "      <td>0.000000</td>\n",
       "      <td>0.000000</td>\n",
       "      <td>0.000000</td>\n",
       "    </tr>\n",
       "    <tr>\n",
       "      <th>75%</th>\n",
       "      <td>510.750000</td>\n",
       "      <td>4.500000</td>\n",
       "      <td>2.000000</td>\n",
       "      <td>0.000000</td>\n",
       "      <td>0.0</td>\n",
       "      <td>0.000000</td>\n",
       "      <td>0.000000</td>\n",
       "      <td>0.000000</td>\n",
       "      <td>0.000000</td>\n",
       "      <td>0.000000</td>\n",
       "      <td>...</td>\n",
       "      <td>0.000000</td>\n",
       "      <td>0.000000</td>\n",
       "      <td>0.000000</td>\n",
       "      <td>0.000000</td>\n",
       "      <td>0.000000</td>\n",
       "      <td>0.0</td>\n",
       "      <td>0.000000</td>\n",
       "      <td>0.000000</td>\n",
       "      <td>0.000000</td>\n",
       "      <td>0.000000</td>\n",
       "    </tr>\n",
       "    <tr>\n",
       "      <th>max</th>\n",
       "      <td>9998.000000</td>\n",
       "      <td>5.000000</td>\n",
       "      <td>4.000000</td>\n",
       "      <td>1.000000</td>\n",
       "      <td>0.0</td>\n",
       "      <td>1.000000</td>\n",
       "      <td>1.000000</td>\n",
       "      <td>1.000000</td>\n",
       "      <td>1.000000</td>\n",
       "      <td>1.000000</td>\n",
       "      <td>...</td>\n",
       "      <td>1.000000</td>\n",
       "      <td>1.000000</td>\n",
       "      <td>1.000000</td>\n",
       "      <td>1.000000</td>\n",
       "      <td>1.000000</td>\n",
       "      <td>0.0</td>\n",
       "      <td>1.000000</td>\n",
       "      <td>1.000000</td>\n",
       "      <td>1.000000</td>\n",
       "      <td>1.000000</td>\n",
       "    </tr>\n",
       "  </tbody>\n",
       "</table>\n",
       "<p>8 rows × 153 columns</p>\n",
       "</div>"
      ],
      "text/plain": [
       "       review_count      rating       price   is_closed  categories_afghani  \\\n",
       "count    790.000000  790.000000  790.000000  790.000000               790.0   \n",
       "mean     481.046835    4.337975    1.970886    0.229114                 0.0   \n",
       "std      745.623428    0.412511    0.683251    0.420529                 0.0   \n",
       "min       14.000000    2.000000    1.000000    0.000000                 0.0   \n",
       "25%      138.500000    4.000000    2.000000    0.000000                 0.0   \n",
       "50%      271.000000    4.500000    2.000000    0.000000                 0.0   \n",
       "75%      510.750000    4.500000    2.000000    0.000000                 0.0   \n",
       "max     9998.000000    5.000000    4.000000    1.000000                 0.0   \n",
       "\n",
       "       categories_african  categories_argentine  categories_asianfusion  \\\n",
       "count          790.000000            790.000000              790.000000   \n",
       "mean             0.001266              0.002532                0.006329   \n",
       "std              0.035578              0.050284                0.079354   \n",
       "min              0.000000              0.000000                0.000000   \n",
       "25%              0.000000              0.000000                0.000000   \n",
       "50%              0.000000              0.000000                0.000000   \n",
       "75%              0.000000              0.000000                0.000000   \n",
       "max              1.000000              1.000000                1.000000   \n",
       "\n",
       "       categories_australian  categories_austrian  ...  categories_ukrainian  \\\n",
       "count             790.000000           790.000000  ...            790.000000   \n",
       "mean                0.001266             0.001266  ...              0.001266   \n",
       "std                 0.035578             0.035578  ...              0.035578   \n",
       "min                 0.000000             0.000000  ...              0.000000   \n",
       "25%                 0.000000             0.000000  ...              0.000000   \n",
       "50%                 0.000000             0.000000  ...              0.000000   \n",
       "75%                 0.000000             0.000000  ...              0.000000   \n",
       "max                 1.000000             1.000000  ...              1.000000   \n",
       "\n",
       "       categories_uzbek  categories_vegan  categories_vegetarian  \\\n",
       "count        790.000000        790.000000             790.000000   \n",
       "mean           0.001266          0.008861               0.010127   \n",
       "std            0.035578          0.093773               0.100184   \n",
       "min            0.000000          0.000000               0.000000   \n",
       "25%            0.000000          0.000000               0.000000   \n",
       "50%            0.000000          0.000000               0.000000   \n",
       "75%            0.000000          0.000000               0.000000   \n",
       "max            1.000000          1.000000               1.000000   \n",
       "\n",
       "       categories_venezuelan  categories_venues  categories_vietnamese  \\\n",
       "count             790.000000              790.0             790.000000   \n",
       "mean                0.003797                0.0               0.010127   \n",
       "std                 0.061545                0.0               0.100184   \n",
       "min                 0.000000                0.0               0.000000   \n",
       "25%                 0.000000                0.0               0.000000   \n",
       "50%                 0.000000                0.0               0.000000   \n",
       "75%                 0.000000                0.0               0.000000   \n",
       "max                 1.000000                0.0               1.000000   \n",
       "\n",
       "       categories_waffles  categories_whiskeybars  categories_wine_bars  \n",
       "count          790.000000              790.000000            790.000000  \n",
       "mean             0.001266                0.001266              0.015190  \n",
       "std              0.035578                0.035578              0.122385  \n",
       "min              0.000000                0.000000              0.000000  \n",
       "25%              0.000000                0.000000              0.000000  \n",
       "50%              0.000000                0.000000              0.000000  \n",
       "75%              0.000000                0.000000              0.000000  \n",
       "max              1.000000                1.000000              1.000000  \n",
       "\n",
       "[8 rows x 153 columns]"
      ]
     },
     "execution_count": 69,
     "metadata": {},
     "output_type": "execute_result"
    }
   ],
   "source": [
    "train.describe()"
   ]
  },
  {
   "cell_type": "code",
   "execution_count": 70,
   "metadata": {},
   "outputs": [
    {
     "data": {
      "text/html": [
       "<div>\n",
       "<style scoped>\n",
       "    .dataframe tbody tr th:only-of-type {\n",
       "        vertical-align: middle;\n",
       "    }\n",
       "\n",
       "    .dataframe tbody tr th {\n",
       "        vertical-align: top;\n",
       "    }\n",
       "\n",
       "    .dataframe thead th {\n",
       "        text-align: right;\n",
       "    }\n",
       "</style>\n",
       "<table border=\"1\" class=\"dataframe\">\n",
       "  <thead>\n",
       "    <tr style=\"text-align: right;\">\n",
       "      <th></th>\n",
       "      <th>review_count</th>\n",
       "      <th>rating</th>\n",
       "      <th>price</th>\n",
       "      <th>is_closed</th>\n",
       "      <th>categories_afghani</th>\n",
       "      <th>categories_african</th>\n",
       "      <th>categories_argentine</th>\n",
       "      <th>categories_asianfusion</th>\n",
       "      <th>categories_australian</th>\n",
       "      <th>categories_austrian</th>\n",
       "      <th>...</th>\n",
       "      <th>categories_ukrainian</th>\n",
       "      <th>categories_uzbek</th>\n",
       "      <th>categories_vegan</th>\n",
       "      <th>categories_vegetarian</th>\n",
       "      <th>categories_venezuelan</th>\n",
       "      <th>categories_venues</th>\n",
       "      <th>categories_vietnamese</th>\n",
       "      <th>categories_waffles</th>\n",
       "      <th>categories_whiskeybars</th>\n",
       "      <th>categories_wine_bars</th>\n",
       "    </tr>\n",
       "  </thead>\n",
       "  <tbody>\n",
       "    <tr>\n",
       "      <th>count</th>\n",
       "      <td>407.000000</td>\n",
       "      <td>407.000000</td>\n",
       "      <td>407.000000</td>\n",
       "      <td>407.000000</td>\n",
       "      <td>407.000000</td>\n",
       "      <td>407.000000</td>\n",
       "      <td>407.000000</td>\n",
       "      <td>407.000000</td>\n",
       "      <td>407.000000</td>\n",
       "      <td>407.0</td>\n",
       "      <td>...</td>\n",
       "      <td>407.0</td>\n",
       "      <td>407.0</td>\n",
       "      <td>407.000000</td>\n",
       "      <td>407.000000</td>\n",
       "      <td>407.000000</td>\n",
       "      <td>407.000000</td>\n",
       "      <td>407.000000</td>\n",
       "      <td>407.0</td>\n",
       "      <td>407.000000</td>\n",
       "      <td>407.000000</td>\n",
       "    </tr>\n",
       "    <tr>\n",
       "      <th>mean</th>\n",
       "      <td>448.007371</td>\n",
       "      <td>4.362408</td>\n",
       "      <td>1.990172</td>\n",
       "      <td>0.238329</td>\n",
       "      <td>0.002457</td>\n",
       "      <td>0.002457</td>\n",
       "      <td>0.002457</td>\n",
       "      <td>0.007371</td>\n",
       "      <td>0.004914</td>\n",
       "      <td>0.0</td>\n",
       "      <td>...</td>\n",
       "      <td>0.0</td>\n",
       "      <td>0.0</td>\n",
       "      <td>0.009828</td>\n",
       "      <td>0.009828</td>\n",
       "      <td>0.002457</td>\n",
       "      <td>0.002457</td>\n",
       "      <td>0.012285</td>\n",
       "      <td>0.0</td>\n",
       "      <td>0.002457</td>\n",
       "      <td>0.019656</td>\n",
       "    </tr>\n",
       "    <tr>\n",
       "      <th>std</th>\n",
       "      <td>554.936918</td>\n",
       "      <td>0.372367</td>\n",
       "      <td>0.680410</td>\n",
       "      <td>0.426586</td>\n",
       "      <td>0.049568</td>\n",
       "      <td>0.049568</td>\n",
       "      <td>0.049568</td>\n",
       "      <td>0.085643</td>\n",
       "      <td>0.070014</td>\n",
       "      <td>0.0</td>\n",
       "      <td>...</td>\n",
       "      <td>0.0</td>\n",
       "      <td>0.0</td>\n",
       "      <td>0.098769</td>\n",
       "      <td>0.098769</td>\n",
       "      <td>0.049568</td>\n",
       "      <td>0.049568</td>\n",
       "      <td>0.110290</td>\n",
       "      <td>0.0</td>\n",
       "      <td>0.049568</td>\n",
       "      <td>0.138986</td>\n",
       "    </tr>\n",
       "    <tr>\n",
       "      <th>min</th>\n",
       "      <td>23.000000</td>\n",
       "      <td>3.000000</td>\n",
       "      <td>1.000000</td>\n",
       "      <td>0.000000</td>\n",
       "      <td>0.000000</td>\n",
       "      <td>0.000000</td>\n",
       "      <td>0.000000</td>\n",
       "      <td>0.000000</td>\n",
       "      <td>0.000000</td>\n",
       "      <td>0.0</td>\n",
       "      <td>...</td>\n",
       "      <td>0.0</td>\n",
       "      <td>0.0</td>\n",
       "      <td>0.000000</td>\n",
       "      <td>0.000000</td>\n",
       "      <td>0.000000</td>\n",
       "      <td>0.000000</td>\n",
       "      <td>0.000000</td>\n",
       "      <td>0.0</td>\n",
       "      <td>0.000000</td>\n",
       "      <td>0.000000</td>\n",
       "    </tr>\n",
       "    <tr>\n",
       "      <th>25%</th>\n",
       "      <td>144.000000</td>\n",
       "      <td>4.000000</td>\n",
       "      <td>2.000000</td>\n",
       "      <td>0.000000</td>\n",
       "      <td>0.000000</td>\n",
       "      <td>0.000000</td>\n",
       "      <td>0.000000</td>\n",
       "      <td>0.000000</td>\n",
       "      <td>0.000000</td>\n",
       "      <td>0.0</td>\n",
       "      <td>...</td>\n",
       "      <td>0.0</td>\n",
       "      <td>0.0</td>\n",
       "      <td>0.000000</td>\n",
       "      <td>0.000000</td>\n",
       "      <td>0.000000</td>\n",
       "      <td>0.000000</td>\n",
       "      <td>0.000000</td>\n",
       "      <td>0.0</td>\n",
       "      <td>0.000000</td>\n",
       "      <td>0.000000</td>\n",
       "    </tr>\n",
       "    <tr>\n",
       "      <th>50%</th>\n",
       "      <td>268.000000</td>\n",
       "      <td>4.500000</td>\n",
       "      <td>2.000000</td>\n",
       "      <td>0.000000</td>\n",
       "      <td>0.000000</td>\n",
       "      <td>0.000000</td>\n",
       "      <td>0.000000</td>\n",
       "      <td>0.000000</td>\n",
       "      <td>0.000000</td>\n",
       "      <td>0.0</td>\n",
       "      <td>...</td>\n",
       "      <td>0.0</td>\n",
       "      <td>0.0</td>\n",
       "      <td>0.000000</td>\n",
       "      <td>0.000000</td>\n",
       "      <td>0.000000</td>\n",
       "      <td>0.000000</td>\n",
       "      <td>0.000000</td>\n",
       "      <td>0.0</td>\n",
       "      <td>0.000000</td>\n",
       "      <td>0.000000</td>\n",
       "    </tr>\n",
       "    <tr>\n",
       "      <th>75%</th>\n",
       "      <td>512.500000</td>\n",
       "      <td>4.500000</td>\n",
       "      <td>2.000000</td>\n",
       "      <td>0.000000</td>\n",
       "      <td>0.000000</td>\n",
       "      <td>0.000000</td>\n",
       "      <td>0.000000</td>\n",
       "      <td>0.000000</td>\n",
       "      <td>0.000000</td>\n",
       "      <td>0.0</td>\n",
       "      <td>...</td>\n",
       "      <td>0.0</td>\n",
       "      <td>0.0</td>\n",
       "      <td>0.000000</td>\n",
       "      <td>0.000000</td>\n",
       "      <td>0.000000</td>\n",
       "      <td>0.000000</td>\n",
       "      <td>0.000000</td>\n",
       "      <td>0.0</td>\n",
       "      <td>0.000000</td>\n",
       "      <td>0.000000</td>\n",
       "    </tr>\n",
       "    <tr>\n",
       "      <th>max</th>\n",
       "      <td>5119.000000</td>\n",
       "      <td>5.000000</td>\n",
       "      <td>4.000000</td>\n",
       "      <td>1.000000</td>\n",
       "      <td>1.000000</td>\n",
       "      <td>1.000000</td>\n",
       "      <td>1.000000</td>\n",
       "      <td>1.000000</td>\n",
       "      <td>1.000000</td>\n",
       "      <td>0.0</td>\n",
       "      <td>...</td>\n",
       "      <td>0.0</td>\n",
       "      <td>0.0</td>\n",
       "      <td>1.000000</td>\n",
       "      <td>1.000000</td>\n",
       "      <td>1.000000</td>\n",
       "      <td>1.000000</td>\n",
       "      <td>1.000000</td>\n",
       "      <td>0.0</td>\n",
       "      <td>1.000000</td>\n",
       "      <td>1.000000</td>\n",
       "    </tr>\n",
       "  </tbody>\n",
       "</table>\n",
       "<p>8 rows × 153 columns</p>\n",
       "</div>"
      ],
      "text/plain": [
       "       review_count      rating       price   is_closed  categories_afghani  \\\n",
       "count    407.000000  407.000000  407.000000  407.000000          407.000000   \n",
       "mean     448.007371    4.362408    1.990172    0.238329            0.002457   \n",
       "std      554.936918    0.372367    0.680410    0.426586            0.049568   \n",
       "min       23.000000    3.000000    1.000000    0.000000            0.000000   \n",
       "25%      144.000000    4.000000    2.000000    0.000000            0.000000   \n",
       "50%      268.000000    4.500000    2.000000    0.000000            0.000000   \n",
       "75%      512.500000    4.500000    2.000000    0.000000            0.000000   \n",
       "max     5119.000000    5.000000    4.000000    1.000000            1.000000   \n",
       "\n",
       "       categories_african  categories_argentine  categories_asianfusion  \\\n",
       "count          407.000000            407.000000              407.000000   \n",
       "mean             0.002457              0.002457                0.007371   \n",
       "std              0.049568              0.049568                0.085643   \n",
       "min              0.000000              0.000000                0.000000   \n",
       "25%              0.000000              0.000000                0.000000   \n",
       "50%              0.000000              0.000000                0.000000   \n",
       "75%              0.000000              0.000000                0.000000   \n",
       "max              1.000000              1.000000                1.000000   \n",
       "\n",
       "       categories_australian  categories_austrian  ...  categories_ukrainian  \\\n",
       "count             407.000000                407.0  ...                 407.0   \n",
       "mean                0.004914                  0.0  ...                   0.0   \n",
       "std                 0.070014                  0.0  ...                   0.0   \n",
       "min                 0.000000                  0.0  ...                   0.0   \n",
       "25%                 0.000000                  0.0  ...                   0.0   \n",
       "50%                 0.000000                  0.0  ...                   0.0   \n",
       "75%                 0.000000                  0.0  ...                   0.0   \n",
       "max                 1.000000                  0.0  ...                   0.0   \n",
       "\n",
       "       categories_uzbek  categories_vegan  categories_vegetarian  \\\n",
       "count             407.0        407.000000             407.000000   \n",
       "mean                0.0          0.009828               0.009828   \n",
       "std                 0.0          0.098769               0.098769   \n",
       "min                 0.0          0.000000               0.000000   \n",
       "25%                 0.0          0.000000               0.000000   \n",
       "50%                 0.0          0.000000               0.000000   \n",
       "75%                 0.0          0.000000               0.000000   \n",
       "max                 0.0          1.000000               1.000000   \n",
       "\n",
       "       categories_venezuelan  categories_venues  categories_vietnamese  \\\n",
       "count             407.000000         407.000000             407.000000   \n",
       "mean                0.002457           0.002457               0.012285   \n",
       "std                 0.049568           0.049568               0.110290   \n",
       "min                 0.000000           0.000000               0.000000   \n",
       "25%                 0.000000           0.000000               0.000000   \n",
       "50%                 0.000000           0.000000               0.000000   \n",
       "75%                 0.000000           0.000000               0.000000   \n",
       "max                 1.000000           1.000000               1.000000   \n",
       "\n",
       "       categories_waffles  categories_whiskeybars  categories_wine_bars  \n",
       "count               407.0              407.000000            407.000000  \n",
       "mean                  0.0                0.002457              0.019656  \n",
       "std                   0.0                0.049568              0.138986  \n",
       "min                   0.0                0.000000              0.000000  \n",
       "25%                   0.0                0.000000              0.000000  \n",
       "50%                   0.0                0.000000              0.000000  \n",
       "75%                   0.0                0.000000              0.000000  \n",
       "max                   0.0                1.000000              1.000000  \n",
       "\n",
       "[8 rows x 153 columns]"
      ]
     },
     "execution_count": 70,
     "metadata": {},
     "output_type": "execute_result"
    }
   ],
   "source": [
    "test.describe()"
   ]
  },
  {
   "cell_type": "code",
   "execution_count": 82,
   "metadata": {},
   "outputs": [
    {
     "name": "stdout",
     "output_type": "stream",
     "text": [
      "Test Accuracy: 0.9115479115479116\n"
     ]
    }
   ],
   "source": [
    "rfc = RandomForestClassifier(n_estimators=100, random_state=42)\n",
    "rfc.fit(train.drop('is_closed', axis=1), train['is_closed'])\n",
    "rfc_test_score = rfc.score(test.drop('is_closed', axis=1), test['is_closed'])\n",
    "print('Test Accuracy:', rfc_test_score)"
   ]
  },
  {
   "cell_type": "code",
   "execution_count": 83,
   "metadata": {},
   "outputs": [
    {
     "data": {
      "text/html": [
       "<div>\n",
       "<style scoped>\n",
       "    .dataframe tbody tr th:only-of-type {\n",
       "        vertical-align: middle;\n",
       "    }\n",
       "\n",
       "    .dataframe tbody tr th {\n",
       "        vertical-align: top;\n",
       "    }\n",
       "\n",
       "    .dataframe thead th {\n",
       "        text-align: right;\n",
       "    }\n",
       "</style>\n",
       "<table border=\"1\" class=\"dataframe\">\n",
       "  <thead>\n",
       "    <tr style=\"text-align: right;\">\n",
       "      <th></th>\n",
       "      <th>0</th>\n",
       "      <th>1</th>\n",
       "    </tr>\n",
       "  </thead>\n",
       "  <tbody>\n",
       "    <tr>\n",
       "      <th>0</th>\n",
       "      <td>311</td>\n",
       "      <td>13</td>\n",
       "    </tr>\n",
       "    <tr>\n",
       "      <th>1</th>\n",
       "      <td>23</td>\n",
       "      <td>60</td>\n",
       "    </tr>\n",
       "  </tbody>\n",
       "</table>\n",
       "</div>"
      ],
      "text/plain": [
       "     0   1\n",
       "0  311  13\n",
       "1   23  60"
      ]
     },
     "execution_count": 83,
     "metadata": {},
     "output_type": "execute_result"
    }
   ],
   "source": [
    "pd.DataFrame(confusion_matrix(test['is_closed'], rfc.predict(test.drop('is_closed', axis=1)), labels=[0, 1])) "
   ]
  },
  {
   "cell_type": "code",
   "execution_count": 102,
   "metadata": {},
   "outputs": [
    {
     "data": {
      "image/png": "[encoded data removed]",
      "text/plain": [
       "<Figure size 432x288 with 2 Axes>"
      ]
     },
     "metadata": {
      "needs_background": "light"
     },
     "output_type": "display_data"
    }
   ],
   "source": [
    "import seaborn as sns\n",
    "import matplotlib.pyplot as plt\n",
    "%matplotlib inline\n",
    "\n",
    "cm = pd.DataFrame(confusion_matrix(test['is_closed'], rfc.predict(test.drop('is_closed', axis=1)), labels=[0, 1])) \n",
    "LABELS = ['open', 'close']\n",
    "sns.heatmap(cm, annot=True, xticklabels=LABELS, yticklabels=LABELS, fmt='g').set_title(\"Random Forest for basic features\")\n",
    "\n",
    "xl = plt.xlabel(\"Predicted\")\n",
    "yl = plt.ylabel(\"Actuals\")"
   ]
  },
  {
   "cell_type": "code",
   "execution_count": 84,
   "metadata": {},
   "outputs": [
    {
     "data": {
      "text/html": [
       "<div>\n",
       "<style scoped>\n",
       "    .dataframe tbody tr th:only-of-type {\n",
       "        vertical-align: middle;\n",
       "    }\n",
       "\n",
       "    .dataframe tbody tr th {\n",
       "        vertical-align: top;\n",
       "    }\n",
       "\n",
       "    .dataframe thead th {\n",
       "        text-align: right;\n",
       "    }\n",
       "</style>\n",
       "<table border=\"1\" class=\"dataframe\">\n",
       "  <thead>\n",
       "    <tr style=\"text-align: right;\">\n",
       "      <th></th>\n",
       "      <th>0</th>\n",
       "      <th>Feature</th>\n",
       "    </tr>\n",
       "  </thead>\n",
       "  <tbody>\n",
       "    <tr>\n",
       "      <th>1</th>\n",
       "      <td>0.535822</td>\n",
       "      <td>rating</td>\n",
       "    </tr>\n",
       "    <tr>\n",
       "      <th>0</th>\n",
       "      <td>0.221658</td>\n",
       "      <td>review_count</td>\n",
       "    </tr>\n",
       "    <tr>\n",
       "      <th>2</th>\n",
       "      <td>0.024881</td>\n",
       "      <td>price</td>\n",
       "    </tr>\n",
       "    <tr>\n",
       "      <th>51</th>\n",
       "      <td>0.013628</td>\n",
       "      <td>categories_diners</td>\n",
       "    </tr>\n",
       "    <tr>\n",
       "      <th>140</th>\n",
       "      <td>0.012511</td>\n",
       "      <td>categories_tradamerican</td>\n",
       "    </tr>\n",
       "  </tbody>\n",
       "</table>\n",
       "</div>"
      ],
      "text/plain": [
       "            0                  Feature\n",
       "1    0.535822                   rating\n",
       "0    0.221658             review_count\n",
       "2    0.024881                    price\n",
       "51   0.013628        categories_diners\n",
       "140  0.012511  categories_tradamerican"
      ]
     },
     "execution_count": 84,
     "metadata": {},
     "output_type": "execute_result"
    }
   ],
   "source": [
    "Rfclf_fea = pd.DataFrame(rfc.feature_importances_)\n",
    "Rfclf_fea[\"Feature\"] = list(train.drop('is_closed', axis=1).columns) \n",
    "Rfclf_fea.sort_values(by=0, ascending=False).head()"
   ]
  },
  {
   "cell_type": "code",
   "execution_count": 122,
   "metadata": {},
   "outputs": [
    {
     "data": {
      "image/png": "[encoded data removed]",
      "text/plain": [
       "<Figure size 842.4x595.44 with 1 Axes>"
      ]
     },
     "metadata": {},
     "output_type": "display_data"
    }
   ],
   "source": [
    "import seaborn as sns\n",
    "sns.set(rc={'figure.figsize':(11.7,8.27)})\n",
    "g = sns.barplot(0,\"Feature\",data = Rfclf_fea.sort_values(by=0, ascending=False)[0:10],\\\n",
    "                palette=\"Pastel1\",orient = \"h\")\n",
    "g.set_xlabel(\"Weight\")\n",
    "\n",
    "g = g.set_title(\"Random Forest for feature importances\")"
   ]
  },
  {
   "cell_type": "code",
   "execution_count": 97,
   "metadata": {},
   "outputs": [
    {
     "name": "stdout",
     "output_type": "stream",
     "text": [
      "f1 macro: 0.8573\n",
      "AUC: 0.9064\n"
     ]
    }
   ],
   "source": [
    "from sklearn.metrics import f1_score\n",
    "from sklearn.metrics import roc_curve, auc,precision_recall_curve\n",
    "\n",
    "predicted = rfc.predict(test.drop('is_closed', axis=1))\n",
    "f1_score = f1_score(test['is_closed'], predicted,average='macro')\n",
    "\n",
    "predict_p=rfc.predict_proba(test.drop('is_closed', axis=1))\n",
    "y_pred = predict_p[:,1]\n",
    "fpr, tpr, thresholds = roc_curve(test['is_closed'], y_pred)\n",
    "\n",
    "print('f1 macro:', '%.4f'%f1_score)\n",
    "print(\"AUC: {:.4}\".format(auc(fpr, tpr)))\n"
   ]
  },
  {
   "cell_type": "code",
   "execution_count": 98,
   "metadata": {},
   "outputs": [],
   "source": [
    "from sklearn.model_selection import cross_validate\n",
    "from matplotlib import pyplot as plt\n",
    "\n",
    "def k_fold(train, label):\n",
    "    clf = RandomForestClassifier(n_estimators=100, random_state=42)\n",
    "    metrics = [\"f1_macro\"]\n",
    "    lst=[]\n",
    "    for k in range(2,20):\n",
    "        cv = cross_validate(clf, train, label, scoring=metrics, cv=k)\n",
    "        v=np.mean(cv['test_f1_macro'])\n",
    "        lst.append(v)\n",
    "    k=list(range(2,20))    \n",
    "    plt.figure(figsize=(8,4))\n",
    "    plt.plot(k,lst)\n",
    "    plt.title('F1 Macro vs. K-Fold')\n",
    "    plt.xlabel('K-Fold')\n",
    "    plt.ylabel('F1 Macro')\n",
    "    plt.show()\n",
    "    return None"
   ]
  },
  {
   "cell_type": "code",
   "execution_count": 99,
   "metadata": {},
   "outputs": [
    {
     "data": {
      "image/png": "[encoded data removed]",
      "text/plain": [
       "<Figure size 576x288 with 1 Axes>"
      ]
     },
     "metadata": {},
     "output_type": "display_data"
    }
   ],
   "source": [
    "k_fold(train.drop('is_closed', axis=1), train['is_closed'])"
   ]
  },
  {
   "cell_type": "code",
   "execution_count": 113,
   "metadata": {},
   "outputs": [
    {
     "name": "stdout",
     "output_type": "stream",
     "text": [
      "test f1_macro: 0.9051035545054691\n"
     ]
    }
   ],
   "source": [
    "#cv scores\n",
    "from sklearn.model_selection import cross_val_score\n",
    "cv_scores = cross_val_score(rfc, train.drop('is_closed', axis=1), train['is_closed'], cv=4,scoring='f1_macro')\n",
    "cv_mean_score = np.mean(cv_scores)\n",
    "\n",
    "print('test f1_macro:',cv_mean_score )"
   ]
  }
 ],
 "metadata": {
  "kernelspec": {
   "display_name": "Python 3",
   "language": "python",
   "name": "python3"
  },
  "language_info": {
   "codemirror_mode": {
    "name": "ipython",
    "version": 3
   },
   "file_extension": ".py",
   "mimetype": "text/x-python",
   "name": "python",
   "nbconvert_exporter": "python",
   "pygments_lexer": "ipython3",
   "version": "3.8.3"
  }
 },
 "nbformat": 4,
 "nbformat_minor": 4
}
